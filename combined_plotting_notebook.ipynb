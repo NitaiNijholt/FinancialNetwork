{
 "cells": [
  {
   "cell_type": "code",
   "execution_count": 1,
   "metadata": {
    "ExecuteTime": {
     "end_time": "2024-02-01T11:40:53.635447900Z",
     "start_time": "2024-02-01T11:40:52.529720900Z"
    }
   },
   "outputs": [],
   "source": [
    "import pandas as pd\n",
    "import os\n",
    "import sys\n",
    "import numpy as np\n",
    "import matplotlib.pyplot as plt\n",
    "import seaborn as sns\n",
    "from scipy import stats\n",
    "import powerlaw\n",
    "from scipy.stats import combine_pvalues, norm\n",
    "import statsmodels.api as sm\n",
    "from statsmodels.formula.api import ols\n",
    "import glob\n",
    "import ast"
   ]
  },
  {
   "cell_type": "markdown",
   "metadata": {},
   "source": [
    "# Plots and testing for Hypothesis 1"
   ]
  },
  {
   "cell_type": "markdown",
   "metadata": {},
   "source": [
    "### Our model"
   ]
  },
  {
   "cell_type": "code",
   "execution_count": 2,
   "metadata": {
    "ExecuteTime": {
     "end_time": "2024-02-01T11:40:53.648688Z",
     "start_time": "2024-02-01T11:40:53.636430100Z"
    }
   },
   "outputs": [],
   "source": [
    "path = R'C:\\Users\\nitai\\OneDrive\\MScCLS\\Complex system simulation\\FinancialNetwork\\Data our model'\n"
   ]
  },
  {
   "cell_type": "code",
   "execution_count": 3,
   "metadata": {
    "ExecuteTime": {
     "end_time": "2024-02-01T11:40:53.693297900Z",
     "start_time": "2024-02-01T11:40:53.645481900Z"
    }
   },
   "outputs": [],
   "source": [
    "def get_files_with_parameters(directory_path, input_parameters):\n",
    "    # Read all files in the directory\n",
    "    \n",
    "    all_files = os.listdir(directory_path)\n",
    "    print('all files in directory: ', all_files)\n",
    "\n",
    "    # List to hold DataFrames of files that match the input parameters\n",
    "    matching_files_data = []\n",
    "\n",
    "    for filename in all_files:\n",
    "        # Split the filename on the first underscore to drop the initial number sequence\n",
    "        parts = filename.split('_', 1)\n",
    "        if len(parts) == 2:\n",
    "            # Split the parameters part on the last underscore to drop the timestamp\n",
    "            prefix, parameters_with_timestamp = parts\n",
    "            parameters = '_'.join(parameters_with_timestamp.split('_')[:-1])\n",
    "            \n",
    "            # Check if the file parameters match the input parameters\n",
    "            if input_parameters in parameters:\n",
    "                # Construct the full path to the file\n",
    "                file_path = os.path.join(directory_path, filename)\n",
    "                # Read the CSV file into a DataFrame\n",
    "                df = pd.read_csv(file_path)\n",
    "                # Add the DataFrame to the list\n",
    "                matching_files_data.append(df)\n",
    "\n",
    "    return matching_files_data"
   ]
  },
  {
   "cell_type": "code",
   "execution_count": 4,
   "metadata": {
    "ExecuteTime": {
     "end_time": "2024-02-01T11:40:55.179903900Z",
     "start_time": "2024-02-01T11:40:53.661897Z"
    }
   },
   "outputs": [
    {
     "ename": "FileNotFoundError",
     "evalue": "[WinError 3] 系统找不到指定的路径。: 'C:\\\\Users\\\\nitai\\\\OneDrive\\\\MScCLS\\\\Complex system simulation\\\\FinancialNetwork\\\\Data our model'",
     "output_type": "error",
     "traceback": [
      "\u001b[1;31m---------------------------------------------------------------------------\u001b[0m",
      "\u001b[1;31mFileNotFoundError\u001b[0m                         Traceback (most recent call last)",
      "Cell \u001b[1;32mIn[4], line 4\u001b[0m\n\u001b[0;32m      1\u001b[0m input_parameters \u001b[38;5;241m=\u001b[39m \u001b[38;5;124m'\u001b[39m\u001b[38;5;124m2000_1_1_1_5_1_3_400_hard cutoff_divide exposure singly_intrest_rate\u001b[39m\u001b[38;5;124m'\u001b[39m\n\u001b[0;32m      3\u001b[0m \u001b[38;5;66;03m# Get the matching files\u001b[39;00m\n\u001b[1;32m----> 4\u001b[0m selected_files \u001b[38;5;241m=\u001b[39m get_files_with_parameters(path, input_parameters)\n",
      "Cell \u001b[1;32mIn[3], line 4\u001b[0m, in \u001b[0;36mget_files_with_parameters\u001b[1;34m(directory_path, input_parameters)\u001b[0m\n\u001b[0;32m      1\u001b[0m \u001b[38;5;28;01mdef\u001b[39;00m \u001b[38;5;21mget_files_with_parameters\u001b[39m(directory_path, input_parameters):\n\u001b[0;32m      2\u001b[0m     \u001b[38;5;66;03m# Read all files in the directory\u001b[39;00m\n\u001b[1;32m----> 4\u001b[0m     all_files \u001b[38;5;241m=\u001b[39m os\u001b[38;5;241m.\u001b[39mlistdir(directory_path)\n\u001b[0;32m      5\u001b[0m     \u001b[38;5;28mprint\u001b[39m(\u001b[38;5;124m'\u001b[39m\u001b[38;5;124mall files in directory: \u001b[39m\u001b[38;5;124m'\u001b[39m, all_files)\n\u001b[0;32m      7\u001b[0m     \u001b[38;5;66;03m# List to hold DataFrames of files that match the input parameters\u001b[39;00m\n",
      "\u001b[1;31mFileNotFoundError\u001b[0m: [WinError 3] 系统找不到指定的路径。: 'C:\\\\Users\\\\nitai\\\\OneDrive\\\\MScCLS\\\\Complex system simulation\\\\FinancialNetwork\\\\Data our model'"
     ]
    }
   ],
   "source": [
    "input_parameters = '2000_1_1_1_5_1_3_400_hard cutoff_divide exposure singly_intrest_rate'\n",
    "\n",
    "# Get the matching files\n",
    "selected_files = get_files_with_parameters(path, input_parameters)"
   ]
  },
  {
   "cell_type": "code",
   "execution_count": 5,
   "metadata": {
    "ExecuteTime": {
     "end_time": "2024-02-01T11:41:22.150815400Z",
     "start_time": "2024-02-01T11:41:22.124219400Z"
    }
   },
   "outputs": [],
   "source": [
    "def select_variable_given_list_of_dfs(selected_dfs: list, variable_name: str):\n",
    "    # List to hold Series or lists of the selected variable from each DataFrame\n",
    "    list_of_series_or_lists = []\n",
    "\n",
    "    for df in selected_dfs:\n",
    "        # Check if the variable_name column exists to avoid KeyError\n",
    "        if variable_name in df.columns:\n",
    "\n",
    "            print('parameters', df.iloc[0,:1])\n",
    "            # Drop first row from the DataFrame\n",
    "            df = df.drop(df.index[0])\n",
    "\n",
    "            # Extract the variable column as it contains NANs\n",
    "            variable_series = df[variable_name]\n",
    "            \n",
    "            # Since the column is an object type (possibly containing lists or arrays), \n",
    "            # no conversion to numeric is done here. Instead, we directly append the column.\n",
    "            list_of_series_or_lists.append(variable_series)\n",
    "        else:\n",
    "            print(f\"The variable '{variable_name}' is not in the DataFrame.\")\n",
    "\n",
    "    print('list_of_series_or_lists:', list_of_series_or_lists)\n",
    "    return list_of_series_or_lists"
   ]
  },
  {
   "cell_type": "code",
   "execution_count": 6,
   "metadata": {
    "ExecuteTime": {
     "end_time": "2024-02-01T11:41:22.973097400Z",
     "start_time": "2024-02-01T11:41:22.911781800Z"
    }
   },
   "outputs": [
    {
     "ename": "NameError",
     "evalue": "name 'selected_files' is not defined",
     "output_type": "error",
     "traceback": [
      "\u001b[1;31m---------------------------------------------------------------------------\u001b[0m",
      "\u001b[1;31mNameError\u001b[0m                                 Traceback (most recent call last)",
      "Cell \u001b[1;32mIn[6], line 1\u001b[0m\n\u001b[1;32m----> 1\u001b[0m data_our_model \u001b[38;5;241m=\u001b[39m select_variable_given_list_of_dfs(selected_files, \u001b[38;5;124m'\u001b[39m\u001b[38;5;124mAbs Difference of Bankrupt Agents Over Time\u001b[39m\u001b[38;5;124m'\u001b[39m)\n",
      "\u001b[1;31mNameError\u001b[0m: name 'selected_files' is not defined"
     ]
    }
   ],
   "source": [
    "data_our_model = select_variable_given_list_of_dfs(selected_files, 'Abs Difference of Bankrupt Agents Over Time')"
   ]
  },
  {
   "cell_type": "code",
   "execution_count": 7,
   "metadata": {
    "ExecuteTime": {
     "end_time": "2024-02-01T11:41:23.448379200Z",
     "start_time": "2024-02-01T11:41:23.399207400Z"
    }
   },
   "outputs": [],
   "source": [
    "def convert_string_to_list(string):\n",
    "    # Remove the square brackets\n",
    "    string = string.strip('[]')\n",
    "    # Split the string on commas\n",
    "    string = string.split(',')\n",
    "    # Convert each string in the list to a float\n",
    "    string = [float(s) for s in string]\n",
    "    return string"
   ]
  },
  {
   "cell_type": "code",
   "execution_count": 8,
   "metadata": {
    "ExecuteTime": {
     "end_time": "2024-02-01T11:41:24.354699900Z",
     "start_time": "2024-02-01T11:41:24.328819400Z"
    }
   },
   "outputs": [],
   "source": [
    "titles = ['100 Agents', '200 Agents', '300 Agents']"
   ]
  },
  {
   "cell_type": "code",
   "execution_count": 9,
   "metadata": {
    "ExecuteTime": {
     "end_time": "2024-02-01T11:41:26.142393500Z",
     "start_time": "2024-02-01T11:41:26.117956500Z"
    }
   },
   "outputs": [],
   "source": [
    "def plot_bankruptcy_analysis_multiple_arrays(data_array, titles, param_caption):\n",
    "    \"\"\"\n",
    "    Plots the bankruptcy analysis with three subplots for each file in data_array.\n",
    "    :param data_array: List of pandas DataFrames with bankruptcy data.\n",
    "    \"\"\"\n",
    "    for file_index, file in enumerate(data_array):\n",
    "        plt.figure(figsize=(10, 12))\n",
    "        for run in range(file.shape[0]):\n",
    "            diff_bankrupt_agents = file.iloc[run]\n",
    "            diff_bankrupt_agents = convert_string_to_list(diff_bankrupt_agents)\n",
    "            time_steps = np.arange(len(diff_bankrupt_agents))\n",
    "\n",
    "            # Subplot 1: Difference in Number of Bankrupt Agents\n",
    "            plt.subplot(3, 1, 1)\n",
    "            plt.plot(time_steps, diff_bankrupt_agents, label=f'Run {run+1}', color='orange')\n",
    "            plt.xlabel('Time Step')\n",
    "            plt.ylabel('Difference in Number of Bankrupt Agents')\n",
    "            plt.title(f'N = {titles[file_index]} - Difference in Number of Bankrupt Agents Over Time')\n",
    "            plt.legend()\n",
    "\n",
    "            # Subplot 2: Cumulative Histogram of Absolute Difference in Bankrupt Agents\n",
    "            plt.subplot(3, 1, 2)\n",
    "            plt.hist(np.abs(diff_bankrupt_agents), bins=50, cumulative=-1, log=True, color='green', label=f'Run {run+1}', histtype='step', density=True)\n",
    "            plt.xscale('log')\n",
    "            plt.xlabel('Absolute Difference in Number of Bankrupt Agents (Log Scale)')\n",
    "            plt.ylabel('1 - Cumulative Count (Log Scale)')\n",
    "            plt.title(f'N = {titles[file_index]} - Cumulative Histogram of |Difference in Bankrupt Agents| Over Time')\n",
    "            plt.legend()\n",
    "\n",
    "            # Subplot 3: Frequency of Absolute Differences in Number of Bankrupt Agents\n",
    "            plt.subplot(3, 1, 3)\n",
    "            unique_diffs, counts = np.unique(np.abs(diff_bankrupt_agents), return_counts=True)\n",
    "            plt.scatter(unique_diffs, counts, label=f'Run {run+1}')\n",
    "            plt.xlabel('Absolute Difference in Number of Bankrupt Agents')\n",
    "            plt.ylabel('Frequency of Occurrence')\n",
    "            plt.xscale('log')\n",
    "            plt.yscale('log')\n",
    "            plt.title(f'N = {titles[file_index]} - Frequency of Absolute Differences in Number of Bankrupt Agents')\n",
    "            plt.legend()\n",
    "            param_caption_str = ', '.join([f\"{key}={value}\" for key, value in param_caption.items()])\n",
    "            plt.figtext(0.5, -0.05, f\"Parameters: {param_caption_str}\", wrap=True, horizontalalignment='center', fontsize=10)\n",
    "            plt.tight_layout()  # Adjust the rect to make space for the figtext\n",
    "        plt.show()\n"
   ]
  },
  {
   "cell_type": "code",
   "execution_count": 10,
   "metadata": {
    "ExecuteTime": {
     "end_time": "2024-02-01T11:41:27.047332700Z",
     "start_time": "2024-02-01T11:41:27.018621900Z"
    }
   },
   "outputs": [],
   "source": [
    "param_caption = { \"runs\": 5,\n",
    "  \"time_steps\": 2000,\n",
    "  \"delta_t\": 1,\n",
    "  \"sigma_exposure_node\": 1,\n",
    "  \"sigma_intrestrate\": 1,\n",
    "  \"linking_threshold\": 1,\n",
    "  \"threshold_v\": 5,\n",
    "  \"linking_threshold\": 1,\n",
    "  \"time_to_maturity\": 400,\n",
    "  \"link_threshold_mode\": \"hard cutoff\",\n",
    "  \"link_formation_mode\": 'divide exposure singly',\n",
    "  \"bankruptcy_mode\": \"intrest_rate\",\n",
    "}"
   ]
  },
  {
   "cell_type": "code",
   "execution_count": 11,
   "metadata": {
    "ExecuteTime": {
     "end_time": "2024-02-01T11:41:27.902923600Z",
     "start_time": "2024-02-01T11:41:27.855145400Z"
    }
   },
   "outputs": [
    {
     "ename": "NameError",
     "evalue": "name 'data_our_model' is not defined",
     "output_type": "error",
     "traceback": [
      "\u001b[1;31m---------------------------------------------------------------------------\u001b[0m",
      "\u001b[1;31mNameError\u001b[0m                                 Traceback (most recent call last)",
      "Cell \u001b[1;32mIn[11], line 1\u001b[0m\n\u001b[1;32m----> 1\u001b[0m plot_bankruptcy_analysis_multiple_arrays(data_our_model, titles, param_caption)\n",
      "\u001b[1;31mNameError\u001b[0m: name 'data_our_model' is not defined"
     ]
    }
   ],
   "source": [
    "plot_bankruptcy_analysis_multiple_arrays(data_our_model, titles, param_caption)"
   ]
  },
  {
   "cell_type": "code",
   "execution_count": 12,
   "metadata": {
    "ExecuteTime": {
     "end_time": "2024-02-01T11:41:33.007416700Z",
     "start_time": "2024-02-01T11:41:32.975053900Z"
    }
   },
   "outputs": [],
   "source": [
    "def probability_of_default(data_array, threshold):\n",
    "    return [1 if x > threshold else 0 for x in data_array]/len(data_array)"
   ]
  },
  {
   "cell_type": "code",
   "execution_count": 13,
   "metadata": {
    "ExecuteTime": {
     "end_time": "2024-02-01T11:41:33.438747300Z",
     "start_time": "2024-02-01T11:41:33.395286600Z"
    }
   },
   "outputs": [],
   "source": [
    "def fit_power_law_array(data_array, titles):\n",
    "    \"\"\"\n",
    "    Fit data from multiple arrays to a power-law distribution and compare it with an exponential distribution.\n",
    "    Includes an aggregated p-value using Stouffer's Z-method in its own row below the runs it aggregates.\n",
    "\n",
    "    Parameters:\n",
    "    data_array (List[pd.DataFrame]): List of pandas DataFrames with data to be fitted.\n",
    "    titles (List[str]): List of titles corresponding to each DataFrame in data_array.\n",
    "\n",
    "    Returns:\n",
    "    pd.DataFrame: A DataFrame containing individual run data and aggregated p-values for each title.\n",
    "    \"\"\"\n",
    "    results_list = []\n",
    "\n",
    "    for file_index, file in enumerate(data_array):\n",
    "        p_values = []\n",
    "        for run in range(file.shape[0]):\n",
    "            run_data = file.iloc[run]\n",
    "            run_data = convert_string_to_list(run_data)\n",
    "\n",
    "            # Fit the data to a power-law distribution\n",
    "            results = powerlaw.Fit(run_data)\n",
    "            alpha = results.power_law.alpha\n",
    "            R, p = results.distribution_compare('power_law', 'exponential', normalized_ratio=True)\n",
    "            p_values.append(p)\n",
    "\n",
    "\n",
    "            # Format p-value with significance levels\n",
    "            p_value_formatted = f\"{np.round(p, 4)}\"\n",
    "            if p < 0.001:\n",
    "                p_value_formatted += \"***\"  # Highly significant\n",
    "            elif p < 0.01:\n",
    "                p_value_formatted += \"**\"   # Very significant\n",
    "            elif p < 0.05:\n",
    "                p_value_formatted += \"*\"    # Significant\n",
    "\n",
    "            # Add results to list\n",
    "            results_list.append({\n",
    "                'N agents (Nodes)': titles[file_index],\n",
    "                'run': run + 1,\n",
    "                'alpha exponent': alpha,\n",
    "                'likelihood ratio': R,\n",
    "                'p-value': p_value_formatted\n",
    "            })\n",
    "\n",
    "            # Aggregate p-values for this title using Stouffer's Z-method from statsmodels\n",
    "            combined_test_stat, aggregated_p_value = combine_pvalues(p_values, method='stouffer')\n",
    "\n",
    "\n",
    "            # Format aggregated_p_value p-value with significance levels\n",
    "            aggregated_p_value_formatted = f\"{np.round(aggregated_p_value, 4)}\"\n",
    "            if aggregated_p_value < 0.001:\n",
    "                aggregated_p_value_formatted += \"***\"  # Highly significant\n",
    "            elif aggregated_p_value < 0.01:\n",
    "                aggregated_p_value_formatted += \"**\"   # Very significant\n",
    "            elif aggregated_p_value < 0.05:\n",
    "                aggregated_p_value_formatted += \"*\"    # Significant\n",
    "\n",
    "\n",
    "\n",
    "        results_list.append({\n",
    "            'N agents (Nodes)': '',\n",
    "            'run': 'Stouffer’s p-value',\n",
    "            'alpha exponent': '',\n",
    "            'likelihood ratio': '',\n",
    "            'p-value': aggregated_p_value_formatted\n",
    "        })\n",
    "\n",
    "    # Create DataFrame for all results\n",
    "    results_df = pd.DataFrame(results_list)\n",
    "    return results_df"
   ]
  },
  {
   "cell_type": "code",
   "execution_count": 14,
   "metadata": {
    "ExecuteTime": {
     "end_time": "2024-02-01T11:41:34.367569900Z",
     "start_time": "2024-02-01T11:41:34.297601700Z"
    }
   },
   "outputs": [
    {
     "ename": "NameError",
     "evalue": "name 'data_our_model' is not defined",
     "output_type": "error",
     "traceback": [
      "\u001b[1;31m---------------------------------------------------------------------------\u001b[0m",
      "\u001b[1;31mNameError\u001b[0m                                 Traceback (most recent call last)",
      "Cell \u001b[1;32mIn[14], line 1\u001b[0m\n\u001b[1;32m----> 1\u001b[0m fit_power_law_array(data_our_model, titles)\n",
      "\u001b[1;31mNameError\u001b[0m: name 'data_our_model' is not defined"
     ]
    }
   ],
   "source": [
    "fit_power_law_array(data_our_model, titles)"
   ]
  },
  {
   "cell_type": "markdown",
   "metadata": {},
   "source": [
    "# Papers model"
   ]
  },
  {
   "cell_type": "code",
   "execution_count": 15,
   "metadata": {
    "ExecuteTime": {
     "end_time": "2024-02-01T11:41:37.925056200Z",
     "start_time": "2024-02-01T11:41:37.907227800Z"
    }
   },
   "outputs": [],
   "source": [
    "path = R'C:\\Users\\nitai\\OneDrive\\MScCLS\\Complex system simulation\\FinancialNetwork\\Data papers model'\n"
   ]
  },
  {
   "cell_type": "code",
   "execution_count": 16,
   "metadata": {
    "ExecuteTime": {
     "end_time": "2024-02-01T11:41:38.729753700Z",
     "start_time": "2024-02-01T11:41:38.697213900Z"
    }
   },
   "outputs": [],
   "source": [
    "# 200_2000_1_2_1_5_1_3_400_hard cutoff_random link logic_exposure_20240131155859"
   ]
  },
  {
   "cell_type": "markdown",
   "metadata": {},
   "source": [
    "<!-- '2000_1_1_1_5_1_3_400_hard cutoff_divide exposure singly_intrest_rate' -->"
   ]
  },
  {
   "cell_type": "code",
   "execution_count": 17,
   "metadata": {
    "ExecuteTime": {
     "end_time": "2024-02-01T11:41:39.745293600Z",
     "start_time": "2024-02-01T11:41:39.676615200Z"
    }
   },
   "outputs": [
    {
     "ename": "FileNotFoundError",
     "evalue": "[WinError 3] 系统找不到指定的路径。: 'C:\\\\Users\\\\nitai\\\\OneDrive\\\\MScCLS\\\\Complex system simulation\\\\FinancialNetwork\\\\Data papers model'",
     "output_type": "error",
     "traceback": [
      "\u001b[1;31m---------------------------------------------------------------------------\u001b[0m",
      "\u001b[1;31mFileNotFoundError\u001b[0m                         Traceback (most recent call last)",
      "Cell \u001b[1;32mIn[17], line 4\u001b[0m\n\u001b[0;32m      1\u001b[0m input_parameters \u001b[38;5;241m=\u001b[39m \u001b[38;5;124m'\u001b[39m\u001b[38;5;124m2000_1_1_1_5_1_3_400_hard cutoff_random link logic_exposure\u001b[39m\u001b[38;5;124m'\u001b[39m\n\u001b[0;32m      3\u001b[0m \u001b[38;5;66;03m# Get the matching files\u001b[39;00m\n\u001b[1;32m----> 4\u001b[0m selected_files \u001b[38;5;241m=\u001b[39m get_files_with_parameters(path, input_parameters)\n\u001b[0;32m      6\u001b[0m data_paper \u001b[38;5;241m=\u001b[39m select_variable_given_list_of_dfs(selected_files, \u001b[38;5;124m'\u001b[39m\u001b[38;5;124mAbs Difference of Bankrupt Agents Over Time\u001b[39m\u001b[38;5;124m'\u001b[39m)\n",
      "Cell \u001b[1;32mIn[3], line 4\u001b[0m, in \u001b[0;36mget_files_with_parameters\u001b[1;34m(directory_path, input_parameters)\u001b[0m\n\u001b[0;32m      1\u001b[0m \u001b[38;5;28;01mdef\u001b[39;00m \u001b[38;5;21mget_files_with_parameters\u001b[39m(directory_path, input_parameters):\n\u001b[0;32m      2\u001b[0m     \u001b[38;5;66;03m# Read all files in the directory\u001b[39;00m\n\u001b[1;32m----> 4\u001b[0m     all_files \u001b[38;5;241m=\u001b[39m os\u001b[38;5;241m.\u001b[39mlistdir(directory_path)\n\u001b[0;32m      5\u001b[0m     \u001b[38;5;28mprint\u001b[39m(\u001b[38;5;124m'\u001b[39m\u001b[38;5;124mall files in directory: \u001b[39m\u001b[38;5;124m'\u001b[39m, all_files)\n\u001b[0;32m      7\u001b[0m     \u001b[38;5;66;03m# List to hold DataFrames of files that match the input parameters\u001b[39;00m\n",
      "\u001b[1;31mFileNotFoundError\u001b[0m: [WinError 3] 系统找不到指定的路径。: 'C:\\\\Users\\\\nitai\\\\OneDrive\\\\MScCLS\\\\Complex system simulation\\\\FinancialNetwork\\\\Data papers model'"
     ]
    }
   ],
   "source": [
    "input_parameters = '2000_1_1_1_5_1_3_400_hard cutoff_random link logic_exposure'\n",
    "\n",
    "# Get the matching files\n",
    "selected_files = get_files_with_parameters(path, input_parameters)\n",
    "\n",
    "data_paper = select_variable_given_list_of_dfs(selected_files, 'Abs Difference of Bankrupt Agents Over Time')"
   ]
  },
  {
   "cell_type": "code",
   "execution_count": 18,
   "metadata": {
    "ExecuteTime": {
     "end_time": "2024-02-01T11:41:40.486095500Z",
     "start_time": "2024-02-01T11:41:40.472635Z"
    }
   },
   "outputs": [],
   "source": [
    "param_caption = { \"runs\": 5,\n",
    "  \"time_steps\": 2000,\n",
    "  \"delta_t\": 1,\n",
    "  \"sigma_exposure_node\": 1,\n",
    "  \"sigma_intrestrate\": 1,\n",
    "  \"linking_threshold\": 1,\n",
    "  \"threshold_v\": 5,\n",
    "  \"linking_threshold\": 1,\n",
    "  \"time_to_maturity\": 400,\n",
    "  \"link_threshold_mode\": \"hard cutoff\",\n",
    "  \"link_formation_mode\": '_random link logic',\n",
    "  \"bankruptcy_mode\": \"link logic_exposure\",\n",
    "}"
   ]
  },
  {
   "cell_type": "code",
   "execution_count": 18,
   "metadata": {
    "ExecuteTime": {
     "end_time": "2024-02-01T11:41:41.544030300Z",
     "start_time": "2024-02-01T11:41:41.522348500Z"
    }
   },
   "outputs": [],
   "source": []
  },
  {
   "cell_type": "code",
   "execution_count": 19,
   "metadata": {
    "ExecuteTime": {
     "end_time": "2024-02-01T11:41:41.792999300Z",
     "start_time": "2024-02-01T11:41:41.749050100Z"
    }
   },
   "outputs": [
    {
     "ename": "NameError",
     "evalue": "name 'data_paper' is not defined",
     "output_type": "error",
     "traceback": [
      "\u001b[1;31m---------------------------------------------------------------------------\u001b[0m",
      "\u001b[1;31mNameError\u001b[0m                                 Traceback (most recent call last)",
      "Cell \u001b[1;32mIn[19], line 1\u001b[0m\n\u001b[1;32m----> 1\u001b[0m plot_bankruptcy_analysis_multiple_arrays(data_paper, titles, param_caption)\n",
      "\u001b[1;31mNameError\u001b[0m: name 'data_paper' is not defined"
     ]
    }
   ],
   "source": [
    "plot_bankruptcy_analysis_multiple_arrays(data_paper, titles, param_caption)"
   ]
  },
  {
   "cell_type": "code",
   "execution_count": 20,
   "metadata": {
    "ExecuteTime": {
     "end_time": "2024-02-01T11:41:42.096214800Z",
     "start_time": "2024-02-01T11:41:42.044625700Z"
    }
   },
   "outputs": [
    {
     "ename": "NameError",
     "evalue": "name 'data_paper' is not defined",
     "output_type": "error",
     "traceback": [
      "\u001b[1;31m---------------------------------------------------------------------------\u001b[0m",
      "\u001b[1;31mNameError\u001b[0m                                 Traceback (most recent call last)",
      "Cell \u001b[1;32mIn[20], line 1\u001b[0m\n\u001b[1;32m----> 1\u001b[0m data_paper\n",
      "\u001b[1;31mNameError\u001b[0m: name 'data_paper' is not defined"
     ]
    }
   ],
   "source": [
    "data_paper"
   ]
  },
  {
   "cell_type": "code",
   "execution_count": 21,
   "metadata": {
    "ExecuteTime": {
     "end_time": "2024-02-01T11:41:43.841072Z",
     "start_time": "2024-02-01T11:41:43.782031Z"
    }
   },
   "outputs": [
    {
     "ename": "NameError",
     "evalue": "name 'data_paper' is not defined",
     "output_type": "error",
     "traceback": [
      "\u001b[1;31m---------------------------------------------------------------------------\u001b[0m",
      "\u001b[1;31mNameError\u001b[0m                                 Traceback (most recent call last)",
      "Cell \u001b[1;32mIn[21], line 1\u001b[0m\n\u001b[1;32m----> 1\u001b[0m fit_power_law_array(data_paper, titles)\n",
      "\u001b[1;31mNameError\u001b[0m: name 'data_paper' is not defined"
     ]
    }
   ],
   "source": [
    "fit_power_law_array(data_paper, titles)"
   ]
  },
  {
   "cell_type": "markdown",
   "metadata": {},
   "source": [
    "# Plot 2: Our model"
   ]
  },
  {
   "cell_type": "code",
   "execution_count": 37,
   "metadata": {
    "ExecuteTime": {
     "end_time": "2024-02-01T12:30:16.875690800Z",
     "start_time": "2024-02-01T12:30:16.593685400Z"
    }
   },
   "outputs": [
    {
     "name": "stdout",
     "output_type": "stream",
     "text": [
      "all files in directory:  ['100_2000_1_1_1_5_1_3_400_hard cutoff_divide exposure singly_intrest_rate_20240201000132.csv', '200_2000_1_1_1_5_1_3_400_hard cutoff_divide exposure singly_intrest_rate_20240201001322.csv', '300_2000_1_1_1_5_1_3_400_hard cutoff_divide exposure singly_intrest_rate_20240201045936.csv', '400_2000_1_1_1_5_1_3_400_hard cutoff_divide exposure singly_intrest_rate_20240201012456.csv', '500_2000_1_1_1_5_1_3_400_hard cutoff_divide exposure singly_intrest_rate_20240201023520.csv']\n",
      "all files in directory:  ['100_2000_1_1_1_5_1_3_400_hard cutoff_random link logic_exposure_20240201023652.csv', '200_2000_1_1_1_5_1_3_400_hard cutoff_random link logic_exposure_20240201024300.csv', '300_2000_1_1_1_5_1_3_400_hard cutoff_random link logic_exposure_20240201025542.csv', '400_2000_1_1_1_5_1_3_400_hard cutoff_random link logic_exposure_20240201031526.csv', '500_2000_1_1_1_5_1_3_400_hard cutoff_random link logic_exposure_20240201034215.csv']\n",
      "parameters Combination    (100, 2000, 1, 1, 1, 5, 1, 3, 400, 'hard cutoff')\n",
      "Name: 0, dtype: object\n",
      "parameters Combination    (200, 2000, 1, 1, 1, 5, 1, 3, 400, 'hard cutoff')\n",
      "Name: 0, dtype: object\n",
      "parameters Combination    (300, 2000, 1, 1, 1, 5, 1, 3, 400, 'hard cutoff')\n",
      "Name: 0, dtype: object\n",
      "parameters Combination    (400, 2000, 1, 1, 1, 5, 1, 3, 400, 'hard cutoff')\n",
      "Name: 0, dtype: object\n",
      "parameters Combination    (500, 2000, 1, 1, 1, 5, 1, 3, 400, 'hard cutoff')\n",
      "Name: 0, dtype: object\n",
      "list_of_series_or_lists: [1     [0.0, 0.0, 0.0, 0.0, 0.0, 0.0, 0.0, 0.0, 1.0, ...\n",
      "2     [0.0, 0.0, 0.0, 0.0, 0.0, 0.0, 0.0, 14.0, 3.0,...\n",
      "3     [0.0, 0.0, 0.0, 1.0, 0.0, 0.0, 0.0, 0.0, 1.0, ...\n",
      "4     [0.0, 0.0, 0.0, 0.0, 3.0, 1.0, 0.0, 0.0, 0.0, ...\n",
      "5     [0.0, 8.0, 0.0, 5.0, 0.0, 0.0, 0.0, 0.0, 11.0,...\n",
      "6     [0.0, 0.0, 0.0, 0.0, 2.0, 0.0, 0.0, 0.0, 0.0, ...\n",
      "7     [0.0, 0.0, 0.0, 0.0, 1.0, 0.0, 1.0, 0.0, 0.0, ...\n",
      "8     [0.0, 1.0, 0.0, 0.0, 0.0, 0.0, 0.0, 1.0, 0.0, ...\n",
      "9     [0.0, 0.0, 0.0, 1.0, 1.0, 0.0, 0.0, 0.0, 0.0, ...\n",
      "10    [0.0, 10.0, 0.0, 0.0, 0.0, 3.0, 0.0, 0.0, 0.0,...\n",
      "Name: Abs Difference of Bankrupt Agents Over Time, dtype: object, 1     [0.0, 0.0, 0.0, 0.0, 2.0, 0.0, 0.0, 0.0, 0.0, ...\n",
      "2     [0.0, 0.0, 0.0, 0.0, 0.0, 0.0, 19.0, 0.0, 6.0,...\n",
      "3     [0.0, 0.0, 2.0, 1.0, 0.0, 0.0, 0.0, 0.0, 0.0, ...\n",
      "4     [0.0, 0.0, 0.0, 0.0, 0.0, 1.0, 1.0, 1.0, 0.0, ...\n",
      "5     [0.0, 1.0, 0.0, 0.0, 0.0, 0.0, 1.0, 0.0, 0.0, ...\n",
      "6     [0.0, 0.0, 4.0, 0.0, 2.0, 0.0, 1.0, 0.0, 0.0, ...\n",
      "7     [0.0, 0.0, 0.0, 3.0, 2.0, 0.0, 3.0, 0.0, 0.0, ...\n",
      "8     [0.0, 0.0, 0.0, 0.0, 30.0, 0.0, 0.0, 0.0, 0.0,...\n",
      "9     [0.0, 9.0, 0.0, 0.0, 2.0, 0.0, 0.0, 0.0, 0.0, ...\n",
      "10    [0.0, 0.0, 4.0, 11.0, 0.0, 0.0, 0.0, 45.0, 0.0...\n",
      "Name: Abs Difference of Bankrupt Agents Over Time, dtype: object, 1     [0.0, 0.0, 1.0, 0.0, 3.0, 0.0, 0.0, 0.0, 0.0, ...\n",
      "2     [0.0, 0.0, 0.0, 0.0, 0.0, 47.0, 0.0, 0.0, 0.0,...\n",
      "3     [0.0, 0.0, 8.0, 0.0, 0.0, 0.0, 0.0, 0.0, 0.0, ...\n",
      "4     [0.0, 0.0, 1.0, 0.0, 0.0, 0.0, 0.0, 0.0, 0.0, ...\n",
      "5     [0.0, 0.0, 0.0, 0.0, 32.0, 0.0, 1.0, 0.0, 2.0,...\n",
      "6     [0.0, 0.0, 0.0, 34.0, 0.0, 2.0, 0.0, 0.0, 0.0,...\n",
      "7     [0.0, 0.0, 0.0, 0.0, 1.0, 0.0, 0.0, 2.0, 0.0, ...\n",
      "8     [0.0, 0.0, 0.0, 0.0, 1.0, 0.0, 6.0, 0.0, 0.0, ...\n",
      "9     [0.0, 2.0, 0.0, 1.0, 0.0, 0.0, 0.0, 0.0, 7.0, ...\n",
      "10    [0.0, 0.0, 0.0, 0.0, 0.0, 0.0, 0.0, 0.0, 29.0,...\n",
      "11    [0.0, 0.0, 1.0, 0.0, 2.0, 0.0, 0.0, 0.0, 0.0, ...\n",
      "12    [0.0, 0.0, 0.0, 1.0, 1.0, 0.0, 0.0, 0.0, 0.0, ...\n",
      "13    [0.0, 4.0, 0.0, 0.0, 0.0, 0.0, 0.0, 0.0, 0.0, ...\n",
      "14    [0.0, 0.0, 0.0, 0.0, 0.0, 0.0, 0.0, 0.0, 0.0, ...\n",
      "15    [0.0, 0.0, 0.0, 0.0, 0.0, 1.0, 0.0, 0.0, 0.0, ...\n",
      "Name: Abs Difference of Bankrupt Agents Over Time, dtype: object, 1     [0.0, 0.0, 0.0, 3.0, 1.0, 25.0, 2.0, 0.0, 2.0,...\n",
      "2     [0.0, 0.0, 0.0, 0.0, 0.0, 1.0, 5.0, 0.0, 51.0,...\n",
      "3     [0.0, 0.0, 58.0, 0.0, 0.0, 3.0, 1.0, 0.0, 0.0,...\n",
      "4     [0.0, 0.0, 3.0, 0.0, 4.0, 0.0, 0.0, 34.0, 0.0,...\n",
      "5     [0.0, 0.0, 0.0, 0.0, 0.0, 0.0, 0.0, 0.0, 1.0, ...\n",
      "6     [0.0, 0.0, 0.0, 3.0, 0.0, 0.0, 2.0, 0.0, 0.0, ...\n",
      "7     [0.0, 0.0, 0.0, 0.0, 0.0, 0.0, 0.0, 0.0, 0.0, ...\n",
      "8     [0.0, 1.0, 0.0, 0.0, 1.0, 0.0, 0.0, 2.0, 0.0, ...\n",
      "9     [0.0, 0.0, 0.0, 78.0, 11.0, 0.0, 1.0, 0.0, 0.0...\n",
      "10    [0.0, 0.0, 0.0, 0.0, 0.0, 0.0, 2.0, 0.0, 0.0, ...\n",
      "Name: Abs Difference of Bankrupt Agents Over Time, dtype: object, 1     [0.0, 69.0, 1.0, 0.0, 0.0, 0.0, 5.0, 1.0, 1.0,...\n",
      "2     [0.0, 0.0, 0.0, 0.0, 38.0, 0.0, 0.0, 0.0, 0.0,...\n",
      "3     [0.0, 0.0, 0.0, 1.0, 0.0, 0.0, 1.0, 0.0, 69.0,...\n",
      "4     [0.0, 0.0, 0.0, 0.0, 37.0, 0.0, 0.0, 1.0, 0.0,...\n",
      "5     [0.0, 0.0, 0.0, 3.0, 4.0, 0.0, 0.0, 0.0, 0.0, ...\n",
      "6     [0.0, 0.0, 0.0, 0.0, 0.0, 29.0, 1.0, 0.0, 0.0,...\n",
      "7     [0.0, 0.0, 2.0, 0.0, 22.0, 0.0, 0.0, 5.0, 0.0,...\n",
      "8     [0.0, 0.0, 0.0, 0.0, 0.0, 0.0, 0.0, 0.0, 0.0, ...\n",
      "9     [0.0, 0.0, 0.0, 0.0, 0.0, 0.0, 0.0, 0.0, 0.0, ...\n",
      "10    [0.0, 0.0, 0.0, 0.0, 1.0, 2.0, 14.0, 2.0, 1.0,...\n",
      "Name: Abs Difference of Bankrupt Agents Over Time, dtype: object]\n",
      "parameters Combination    (100, 2000, 1, 1, 1, 5, 1, 3, 400, 'hard cutoff')\n",
      "Name: 0, dtype: object\n",
      "parameters Combination    (200, 2000, 1, 1, 1, 5, 1, 3, 400, 'hard cutoff')\n",
      "Name: 0, dtype: object\n",
      "parameters Combination    (300, 2000, 1, 1, 1, 5, 1, 3, 400, 'hard cutoff')\n",
      "Name: 0, dtype: object\n",
      "parameters Combination    (400, 2000, 1, 1, 1, 5, 1, 3, 400, 'hard cutoff')\n",
      "Name: 0, dtype: object\n",
      "parameters Combination    (500, 2000, 1, 1, 1, 5, 1, 3, 400, 'hard cutoff')\n",
      "Name: 0, dtype: object\n",
      "list_of_series_or_lists: [1     [0.0, 0.0, 0.0, 1.0, 0.0, 0.0, 1.0, 0.0, 0.0, ...\n",
      "2     [0.0, 0.0, 0.0, 0.0, 0.0, 0.0, 0.0, 0.0, 0.0, ...\n",
      "3     [0.0, 0.0, 0.0, 0.0, 0.0, 1.0, 0.0, 0.0, 0.0, ...\n",
      "4     [0.0, 0.0, 0.0, 0.0, 0.0, 0.0, 0.0, 0.0, 0.0, ...\n",
      "5     [0.0, 0.0, 0.0, 0.0, 0.0, 0.0, 0.0, 0.0, 0.0, ...\n",
      "6     [0.0, 0.0, 0.0, 1.0, 0.0, 0.0, 0.0, 0.0, 0.0, ...\n",
      "7     [0.0, 0.0, 1.0, 0.0, 0.0, 1.0, 0.0, 1.0, 0.0, ...\n",
      "8     [0.0, 0.0, 0.0, 0.0, 0.0, 0.0, 0.0, 0.0, 0.0, ...\n",
      "9     [0.0, 0.0, 0.0, 0.0, 0.0, 0.0, 0.0, 0.0, 0.0, ...\n",
      "10    [0.0, 0.0, 0.0, 0.0, 0.0, 0.0, 1.0, 0.0, 1.0, ...\n",
      "Name: Abs Difference of Bankrupt Agents Over Time, dtype: object, 1     [0.0, 0.0, 0.0, 0.0, 0.0, 0.0, 0.0, 0.0, 0.0, ...\n",
      "2     [0.0, 0.0, 0.0, 0.0, 0.0, 0.0, 0.0, 2.0, 1.0, ...\n",
      "3     [0.0, 0.0, 0.0, 1.0, 0.0, 0.0, 0.0, 0.0, 0.0, ...\n",
      "4     [0.0, 0.0, 0.0, 0.0, 0.0, 0.0, 0.0, 0.0, 0.0, ...\n",
      "5     [0.0, 0.0, 0.0, 0.0, 0.0, 1.0, 1.0, 0.0, 0.0, ...\n",
      "6     [0.0, 0.0, 0.0, 0.0, 1.0, 0.0, 0.0, 0.0, 0.0, ...\n",
      "7     [0.0, 0.0, 2.0, 0.0, 0.0, 0.0, 0.0, 0.0, 0.0, ...\n",
      "8     [0.0, 0.0, 0.0, 0.0, 0.0, 1.0, 0.0, 0.0, 0.0, ...\n",
      "9     [0.0, 0.0, 0.0, 1.0, 0.0, 0.0, 0.0, 0.0, 1.0, ...\n",
      "10    [0.0, 0.0, 0.0, 0.0, 0.0, 0.0, 0.0, 0.0, 0.0, ...\n",
      "Name: Abs Difference of Bankrupt Agents Over Time, dtype: object, 1     [0.0, 1.0, 0.0, 1.0, 0.0, 0.0, 0.0, 0.0, 1.0, ...\n",
      "2     [0.0, 0.0, 0.0, 1.0, 0.0, 0.0, 0.0, 0.0, 0.0, ...\n",
      "3     [0.0, 0.0, 0.0, 0.0, 0.0, 1.0, 0.0, 0.0, 0.0, ...\n",
      "4     [0.0, 0.0, 0.0, 0.0, 0.0, 0.0, 0.0, 0.0, 1.0, ...\n",
      "5     [0.0, 0.0, 0.0, 0.0, 0.0, 0.0, 0.0, 0.0, 0.0, ...\n",
      "6     [0.0, 0.0, 0.0, 0.0, 0.0, 0.0, 0.0, 0.0, 0.0, ...\n",
      "7     [0.0, 0.0, 0.0, 1.0, 0.0, 0.0, 0.0, 0.0, 0.0, ...\n",
      "8     [0.0, 0.0, 0.0, 0.0, 1.0, 0.0, 0.0, 0.0, 2.0, ...\n",
      "9     [0.0, 1.0, 0.0, 0.0, 0.0, 0.0, 0.0, 1.0, 1.0, ...\n",
      "10    [0.0, 1.0, 0.0, 0.0, 1.0, 0.0, 1.0, 0.0, 0.0, ...\n",
      "Name: Abs Difference of Bankrupt Agents Over Time, dtype: object, 1     [0.0, 0.0, 0.0, 0.0, 1.0, 0.0, 1.0, 0.0, 0.0, ...\n",
      "2     [0.0, 0.0, 0.0, 0.0, 0.0, 0.0, 0.0, 1.0, 0.0, ...\n",
      "3     [0.0, 0.0, 0.0, 0.0, 2.0, 0.0, 0.0, 1.0, 1.0, ...\n",
      "4     [0.0, 0.0, 1.0, 0.0, 0.0, 0.0, 0.0, 1.0, 1.0, ...\n",
      "5     [0.0, 0.0, 0.0, 0.0, 1.0, 0.0, 1.0, 0.0, 0.0, ...\n",
      "6     [0.0, 0.0, 0.0, 0.0, 0.0, 0.0, 0.0, 0.0, 0.0, ...\n",
      "7     [0.0, 1.0, 0.0, 0.0, 0.0, 0.0, 0.0, 1.0, 1.0, ...\n",
      "8     [0.0, 1.0, 0.0, 0.0, 0.0, 0.0, 0.0, 0.0, 0.0, ...\n",
      "9     [0.0, 0.0, 0.0, 0.0, 0.0, 0.0, 0.0, 0.0, 1.0, ...\n",
      "10    [0.0, 0.0, 0.0, 0.0, 0.0, 0.0, 0.0, 0.0, 0.0, ...\n",
      "Name: Abs Difference of Bankrupt Agents Over Time, dtype: object, 1     [0.0, 0.0, 0.0, 0.0, 1.0, 0.0, 0.0, 0.0, 0.0, ...\n",
      "2     [0.0, 0.0, 0.0, 0.0, 1.0, 0.0, 0.0, 1.0, 0.0, ...\n",
      "3     [0.0, 0.0, 0.0, 1.0, 1.0, 0.0, 0.0, 0.0, 0.0, ...\n",
      "4     [0.0, 1.0, 1.0, 0.0, 0.0, 0.0, 0.0, 0.0, 1.0, ...\n",
      "5     [0.0, 0.0, 0.0, 0.0, 0.0, 0.0, 0.0, 0.0, 0.0, ...\n",
      "6     [0.0, 0.0, 0.0, 0.0, 1.0, 0.0, 0.0, 0.0, 0.0, ...\n",
      "7     [0.0, 0.0, 0.0, 0.0, 0.0, 0.0, 0.0, 0.0, 0.0, ...\n",
      "8     [0.0, 0.0, 1.0, 1.0, 0.0, 1.0, 0.0, 0.0, 0.0, ...\n",
      "9     [0.0, 0.0, 1.0, 1.0, 0.0, 0.0, 0.0, 0.0, 0.0, ...\n",
      "10    [0.0, 0.0, 0.0, 0.0, 1.0, 0.0, 1.0, 0.0, 0.0, ...\n",
      "Name: Abs Difference of Bankrupt Agents Over Time, dtype: object]\n",
      "parameters Combination    (100, 2000, 1, 1, 1, 5, 1, 3, 400, 'hard cutoff')\n",
      "Name: 0, dtype: object\n",
      "parameters Combination    (200, 2000, 1, 1, 1, 5, 1, 3, 400, 'hard cutoff')\n",
      "Name: 0, dtype: object\n",
      "parameters Combination    (300, 2000, 1, 1, 1, 5, 1, 3, 400, 'hard cutoff')\n",
      "Name: 0, dtype: object\n",
      "parameters Combination    (400, 2000, 1, 1, 1, 5, 1, 3, 400, 'hard cutoff')\n",
      "Name: 0, dtype: object\n",
      "parameters Combination    (500, 2000, 1, 1, 1, 5, 1, 3, 400, 'hard cutoff')\n",
      "Name: 0, dtype: object\n",
      "list_of_series_or_lists: [1     [0.0, 0.0, 0.0, 0.0, 0.0, 0.0, 0.0, 0.0, 1.0, ...\n",
      "2     [0.0, 0.0, 0.0, 0.0, 0.0, 0.0, 0.0, 14.0, 17.0...\n",
      "3     [0.0, 0.0, 0.0, 1.0, 1.0, 1.0, 1.0, 1.0, 2.0, ...\n",
      "4     [3.0, 3.0, 3.0, 3.0, 6.0, 7.0, 7.0, 7.0, 7.0, ...\n",
      "5     [0.0, 8.0, 8.0, 13.0, 13.0, 13.0, 13.0, 13.0, ...\n",
      "6     [0.0, 0.0, 0.0, 0.0, 2.0, 2.0, 2.0, 2.0, 2.0, ...\n",
      "7     [0.0, 0.0, 0.0, 0.0, 1.0, 1.0, 2.0, 2.0, 2.0, ...\n",
      "8     [0.0, 1.0, 1.0, 1.0, 1.0, 1.0, 1.0, 2.0, 2.0, ...\n",
      "9     [0.0, 0.0, 0.0, 1.0, 2.0, 2.0, 2.0, 2.0, 2.0, ...\n",
      "10    [0.0, 10.0, 10.0, 10.0, 10.0, 13.0, 13.0, 13.0...\n",
      "Name: Number of Bankrupt Agents Over Time, dtype: object, 1     [2.0, 2.0, 2.0, 2.0, 4.0, 4.0, 4.0, 4.0, 4.0, ...\n",
      "2     [0.0, 0.0, 0.0, 0.0, 0.0, 0.0, 19.0, 19.0, 25....\n",
      "3     [0.0, 0.0, 2.0, 3.0, 3.0, 3.0, 3.0, 3.0, 3.0, ...\n",
      "4     [0.0, 0.0, 0.0, 0.0, 0.0, 1.0, 2.0, 3.0, 3.0, ...\n",
      "5     [0.0, 1.0, 1.0, 1.0, 1.0, 1.0, 2.0, 2.0, 2.0, ...\n",
      "6     [0.0, 0.0, 4.0, 4.0, 6.0, 6.0, 7.0, 7.0, 7.0, ...\n",
      "7     [0.0, 0.0, 0.0, 3.0, 5.0, 5.0, 8.0, 8.0, 8.0, ...\n",
      "8     [0.0, 0.0, 0.0, 0.0, 30.0, 30.0, 30.0, 30.0, 3...\n",
      "9     [0.0, 9.0, 9.0, 9.0, 11.0, 11.0, 11.0, 11.0, 1...\n",
      "10    [1.0, 1.0, 5.0, 16.0, 16.0, 16.0, 16.0, 61.0, ...\n",
      "Name: Number of Bankrupt Agents Over Time, dtype: object, 1     [0.0, 0.0, 1.0, 1.0, 4.0, 4.0, 4.0, 4.0, 4.0, ...\n",
      "2     [0.0, 0.0, 0.0, 0.0, 0.0, 47.0, 47.0, 47.0, 47...\n",
      "3     [1.0, 1.0, 9.0, 9.0, 9.0, 9.0, 9.0, 9.0, 9.0, ...\n",
      "4     [0.0, 0.0, 1.0, 1.0, 1.0, 1.0, 1.0, 1.0, 1.0, ...\n",
      "5     [0.0, 0.0, 0.0, 0.0, 32.0, 32.0, 33.0, 33.0, 3...\n",
      "6     [0.0, 0.0, 0.0, 34.0, 34.0, 36.0, 36.0, 36.0, ...\n",
      "7     [0.0, 0.0, 0.0, 0.0, 1.0, 1.0, 1.0, 3.0, 3.0, ...\n",
      "8     [0.0, 0.0, 0.0, 0.0, 1.0, 1.0, 7.0, 7.0, 7.0, ...\n",
      "9     [0.0, 2.0, 2.0, 3.0, 3.0, 3.0, 3.0, 3.0, 10.0,...\n",
      "10    [0.0, 0.0, 0.0, 0.0, 0.0, 0.0, 0.0, 0.0, 29.0,...\n",
      "11    [0.0, 0.0, 1.0, 1.0, 3.0, 3.0, 3.0, 3.0, 3.0, ...\n",
      "12    [0.0, 0.0, 0.0, 1.0, 2.0, 2.0, 2.0, 2.0, 2.0, ...\n",
      "13    [0.0, 4.0, 4.0, 4.0, 4.0, 4.0, 4.0, 4.0, 4.0, ...\n",
      "14    [0.0, 0.0, 0.0, 0.0, 0.0, 0.0, 0.0, 0.0, 0.0, ...\n",
      "15    [0.0, 0.0, 0.0, 0.0, 0.0, 1.0, 1.0, 1.0, 1.0, ...\n",
      "Name: Number of Bankrupt Agents Over Time, dtype: object, 1     [12.0, 12.0, 12.0, 15.0, 16.0, 41.0, 43.0, 43....\n",
      "2     [0.0, 0.0, 0.0, 0.0, 0.0, 1.0, 6.0, 6.0, 57.0,...\n",
      "3     [3.0, 3.0, 61.0, 61.0, 61.0, 64.0, 65.0, 65.0,...\n",
      "4     [0.0, 0.0, 3.0, 3.0, 7.0, 7.0, 7.0, 41.0, 41.0...\n",
      "5     [0.0, 0.0, 0.0, 0.0, 0.0, 0.0, 0.0, 0.0, 1.0, ...\n",
      "6     [0.0, 0.0, 0.0, 3.0, 3.0, 3.0, 5.0, 5.0, 5.0, ...\n",
      "7     [8.0, 8.0, 8.0, 8.0, 8.0, 8.0, 8.0, 8.0, 8.0, ...\n",
      "8     [0.0, 1.0, 1.0, 1.0, 2.0, 2.0, 2.0, 4.0, 4.0, ...\n",
      "9     [0.0, 0.0, 0.0, 78.0, 89.0, 89.0, 90.0, 90.0, ...\n",
      "10    [0.0, 0.0, 0.0, 0.0, 0.0, 0.0, 2.0, 2.0, 2.0, ...\n",
      "Name: Number of Bankrupt Agents Over Time, dtype: object, 1     [0.0, 69.0, 70.0, 70.0, 70.0, 70.0, 75.0, 76.0...\n",
      "2     [0.0, 0.0, 0.0, 0.0, 38.0, 38.0, 38.0, 38.0, 3...\n",
      "3     [93.0, 93.0, 93.0, 94.0, 94.0, 94.0, 95.0, 95....\n",
      "4     [0.0, 0.0, 0.0, 0.0, 37.0, 37.0, 37.0, 38.0, 3...\n",
      "5     [0.0, 0.0, 0.0, 3.0, 7.0, 7.0, 7.0, 7.0, 7.0, ...\n",
      "6     [0.0, 0.0, 0.0, 0.0, 0.0, 29.0, 30.0, 30.0, 30...\n",
      "7     [0.0, 0.0, 2.0, 2.0, 24.0, 24.0, 24.0, 29.0, 2...\n",
      "8     [0.0, 0.0, 0.0, 0.0, 0.0, 0.0, 0.0, 0.0, 0.0, ...\n",
      "9     [0.0, 0.0, 0.0, 0.0, 0.0, 0.0, 0.0, 0.0, 0.0, ...\n",
      "10    [0.0, 0.0, 0.0, 0.0, 1.0, 3.0, 17.0, 19.0, 20....\n",
      "Name: Number of Bankrupt Agents Over Time, dtype: object]\n",
      "parameters Combination    (100, 2000, 1, 1, 1, 5, 1, 3, 400, 'hard cutoff')\n",
      "Name: 0, dtype: object\n",
      "parameters Combination    (200, 2000, 1, 1, 1, 5, 1, 3, 400, 'hard cutoff')\n",
      "Name: 0, dtype: object\n",
      "parameters Combination    (300, 2000, 1, 1, 1, 5, 1, 3, 400, 'hard cutoff')\n",
      "Name: 0, dtype: object\n",
      "parameters Combination    (400, 2000, 1, 1, 1, 5, 1, 3, 400, 'hard cutoff')\n",
      "Name: 0, dtype: object\n",
      "parameters Combination    (500, 2000, 1, 1, 1, 5, 1, 3, 400, 'hard cutoff')\n",
      "Name: 0, dtype: object\n",
      "list_of_series_or_lists: [1     [0.0, 0.0, 0.0, 1.0, 1.0, 1.0, 2.0, 2.0, 2.0, ...\n",
      "2     [0.0, 0.0, 0.0, 0.0, 0.0, 0.0, 0.0, 0.0, 0.0, ...\n",
      "3     [0.0, 0.0, 0.0, 0.0, 0.0, 1.0, 1.0, 1.0, 1.0, ...\n",
      "4     [0.0, 0.0, 0.0, 0.0, 0.0, 0.0, 0.0, 0.0, 0.0, ...\n",
      "5     [0.0, 0.0, 0.0, 0.0, 0.0, 0.0, 0.0, 0.0, 0.0, ...\n",
      "6     [0.0, 0.0, 0.0, 1.0, 1.0, 1.0, 1.0, 1.0, 1.0, ...\n",
      "7     [0.0, 0.0, 1.0, 1.0, 1.0, 2.0, 2.0, 3.0, 3.0, ...\n",
      "8     [0.0, 0.0, 0.0, 0.0, 0.0, 0.0, 0.0, 0.0, 0.0, ...\n",
      "9     [0.0, 0.0, 0.0, 0.0, 0.0, 0.0, 0.0, 0.0, 0.0, ...\n",
      "10    [0.0, 0.0, 0.0, 0.0, 0.0, 0.0, 1.0, 1.0, 2.0, ...\n",
      "Name: Number of Bankrupt Agents Over Time, dtype: object, 1     [0.0, 0.0, 0.0, 0.0, 0.0, 0.0, 0.0, 0.0, 0.0, ...\n",
      "2     [0.0, 0.0, 0.0, 0.0, 0.0, 0.0, 0.0, 2.0, 3.0, ...\n",
      "3     [0.0, 0.0, 0.0, 1.0, 1.0, 1.0, 1.0, 1.0, 1.0, ...\n",
      "4     [0.0, 0.0, 0.0, 0.0, 0.0, 0.0, 0.0, 0.0, 0.0, ...\n",
      "5     [0.0, 0.0, 0.0, 0.0, 0.0, 1.0, 2.0, 2.0, 2.0, ...\n",
      "6     [0.0, 0.0, 0.0, 0.0, 1.0, 1.0, 1.0, 1.0, 1.0, ...\n",
      "7     [0.0, 0.0, 2.0, 2.0, 2.0, 2.0, 2.0, 2.0, 2.0, ...\n",
      "8     [0.0, 0.0, 0.0, 0.0, 0.0, 1.0, 1.0, 1.0, 1.0, ...\n",
      "9     [0.0, 0.0, 0.0, 1.0, 1.0, 1.0, 1.0, 1.0, 2.0, ...\n",
      "10    [0.0, 0.0, 0.0, 0.0, 0.0, 0.0, 0.0, 0.0, 0.0, ...\n",
      "Name: Number of Bankrupt Agents Over Time, dtype: object, 1     [0.0, 1.0, 1.0, 2.0, 2.0, 2.0, 2.0, 2.0, 3.0, ...\n",
      "2     [0.0, 0.0, 0.0, 1.0, 1.0, 1.0, 1.0, 1.0, 1.0, ...\n",
      "3     [0.0, 0.0, 0.0, 0.0, 0.0, 1.0, 1.0, 1.0, 1.0, ...\n",
      "4     [0.0, 0.0, 0.0, 0.0, 0.0, 0.0, 0.0, 0.0, 1.0, ...\n",
      "5     [0.0, 0.0, 0.0, 0.0, 0.0, 0.0, 0.0, 0.0, 0.0, ...\n",
      "6     [0.0, 0.0, 0.0, 0.0, 0.0, 0.0, 0.0, 0.0, 0.0, ...\n",
      "7     [0.0, 0.0, 0.0, 1.0, 1.0, 1.0, 1.0, 1.0, 1.0, ...\n",
      "8     [0.0, 0.0, 0.0, 0.0, 1.0, 1.0, 1.0, 1.0, 3.0, ...\n",
      "9     [0.0, 1.0, 1.0, 1.0, 1.0, 1.0, 1.0, 2.0, 3.0, ...\n",
      "10    [0.0, 1.0, 1.0, 1.0, 2.0, 2.0, 3.0, 3.0, 3.0, ...\n",
      "Name: Number of Bankrupt Agents Over Time, dtype: object, 1     [0.0, 0.0, 0.0, 0.0, 1.0, 1.0, 2.0, 2.0, 2.0, ...\n",
      "2     [0.0, 0.0, 0.0, 0.0, 0.0, 0.0, 0.0, 1.0, 1.0, ...\n",
      "3     [0.0, 0.0, 0.0, 0.0, 2.0, 2.0, 2.0, 3.0, 4.0, ...\n",
      "4     [0.0, 0.0, 1.0, 1.0, 1.0, 1.0, 1.0, 2.0, 3.0, ...\n",
      "5     [0.0, 0.0, 0.0, 0.0, 1.0, 1.0, 2.0, 2.0, 2.0, ...\n",
      "6     [0.0, 0.0, 0.0, 0.0, 0.0, 0.0, 0.0, 0.0, 0.0, ...\n",
      "7     [0.0, 1.0, 1.0, 1.0, 1.0, 1.0, 1.0, 2.0, 3.0, ...\n",
      "8     [0.0, 1.0, 1.0, 1.0, 1.0, 1.0, 1.0, 1.0, 1.0, ...\n",
      "9     [0.0, 0.0, 0.0, 0.0, 0.0, 0.0, 0.0, 0.0, 1.0, ...\n",
      "10    [0.0, 0.0, 0.0, 0.0, 0.0, 0.0, 0.0, 0.0, 0.0, ...\n",
      "Name: Number of Bankrupt Agents Over Time, dtype: object, 1     [0.0, 0.0, 0.0, 0.0, 1.0, 1.0, 1.0, 1.0, 1.0, ...\n",
      "2     [0.0, 0.0, 0.0, 0.0, 1.0, 1.0, 1.0, 2.0, 2.0, ...\n",
      "3     [0.0, 0.0, 0.0, 1.0, 2.0, 2.0, 2.0, 2.0, 2.0, ...\n",
      "4     [0.0, 1.0, 2.0, 2.0, 2.0, 2.0, 2.0, 2.0, 3.0, ...\n",
      "5     [0.0, 0.0, 0.0, 0.0, 0.0, 0.0, 0.0, 0.0, 0.0, ...\n",
      "6     [0.0, 0.0, 0.0, 0.0, 1.0, 1.0, 1.0, 1.0, 1.0, ...\n",
      "7     [0.0, 0.0, 0.0, 0.0, 0.0, 0.0, 0.0, 0.0, 0.0, ...\n",
      "8     [0.0, 0.0, 1.0, 2.0, 2.0, 3.0, 3.0, 3.0, 3.0, ...\n",
      "9     [0.0, 0.0, 1.0, 2.0, 2.0, 2.0, 2.0, 2.0, 2.0, ...\n",
      "10    [0.0, 0.0, 0.0, 0.0, 1.0, 1.0, 2.0, 2.0, 2.0, ...\n",
      "Name: Number of Bankrupt Agents Over Time, dtype: object]\n"
     ]
    }
   ],
   "source": [
    "path_model = R'E:\\CLS\\FinancialNetwork\\model'\n",
    "path_paper = R'E:\\CLS\\FinancialNetwork\\paper'\n",
    "\n",
    "input_parameters_model = '2000_1_1_1_5_1_3_400_hard cutoff_divide exposure singly_intrest_rate'\n",
    "input_parameters_paper = '2000_1_1_1_5_1_3_400_hard cutoff_random link logic_exposure'\n",
    "\n",
    "selected_files_model = get_files_with_parameters(path_model, input_parameters_model)\n",
    "selected_files_paper = get_files_with_parameters(path_paper, input_parameters_paper)\n",
    "\n",
    "data_plot_2_our_model_diff_agents = select_variable_given_list_of_dfs(selected_files_model, 'Abs Difference of Bankrupt Agents Over Time')\n",
    "data_plot_2_paper_diff_agents = select_variable_given_list_of_dfs(selected_files_paper, 'Abs Difference of Bankrupt Agents Over Time')\n",
    "data_plot_2_our_model_num_agents = select_variable_given_list_of_dfs(selected_files_model, 'Number of Bankrupt Agents Over Time')\n",
    "data_plot_2_paper_num_agents = select_variable_given_list_of_dfs(selected_files_paper, 'Number of Bankrupt Agents Over Time')"
   ]
  },
  {
   "cell_type": "code",
   "execution_count": 38,
   "metadata": {
    "ExecuteTime": {
     "end_time": "2024-02-01T12:30:17.752562400Z",
     "start_time": "2024-02-01T12:30:17.723836Z"
    }
   },
   "outputs": [],
   "source": [
    "def perform_regression(dependent_var, *independent_vars):\n",
    "    \"\"\"\n",
    "    Perform linear regression (simple or multiple) based on the number of independent variables provided.\n",
    "\n",
    "    Parameters:\n",
    "    dependent_var (array-like): The dependent variable.\n",
    "    independent_vars (variable number of array-like): The independent variable(s).\n",
    "\n",
    "    Returns:\n",
    "    RegressionResults: The results of the regression analysis.\n",
    "    \"\"\"\n",
    "    # Combine independent variables into a DataFrame\n",
    "    data = pd.DataFrame({f'var{i}': var for i, var in enumerate(independent_vars, start=1)})\n",
    "\n",
    "    # Add the dependent variable\n",
    "    data['dependent'] = dependent_var\n",
    "\n",
    "    # Define the formula\n",
    "    independent = ' + '.join(data.columns[:-1])\n",
    "    formula = f'dependent ~ {independent}'\n",
    "\n",
    "    # Fit the model\n",
    "    model = sm.OLS.from_formula(formula, data).fit()\n",
    "\n",
    "    return model.summary()"
   ]
  },
  {
   "cell_type": "code",
   "execution_count": 39,
   "metadata": {
    "ExecuteTime": {
     "end_time": "2024-02-01T12:30:18.747593900Z",
     "start_time": "2024-02-01T12:30:18.694957900Z"
    }
   },
   "outputs": [],
   "source": [
    "def compare_group_means(*groups):\n",
    "    \"\"\"\n",
    "    Compare means of multiple groups using ANOVA or Kruskal-Wallis test.\n",
    "    Includes a conclusion based on the hypothesis test.\n",
    "    \"\"\"\n",
    "    # Check for zero variance within each group\n",
    "    if any(np.ptp(group) == 0 for group in groups):\n",
    "        print(\"One or more groups have zero variance, performing non-parametric Kruskal-Wallis test.\")\n",
    "        kruskal_result = stats.kruskal(*groups)\n",
    "        conclusion = \"There is no significant difference between the groups.\" if kruskal_result.pvalue > 0.05 else \"There is a significant difference between the groups.\"\n",
    "        return f\"Kruskal-Wallis Test Result:\\nH-statistic: {kruskal_result.statistic}\\nP-value: {kruskal_result.pvalue}\\nConclusion: {conclusion}\"\n",
    "\n",
    "    # Create a DataFrame to hold all groups data\n",
    "    group_labels = [f'group{i+1}' for i in range(len(groups))]\n",
    "    data_values = []\n",
    "    data_groups = []\n",
    "    for i, group in enumerate(groups):\n",
    "        data_values.extend(group)\n",
    "        data_groups.extend([group_labels[i]] * len(group))\n",
    "    \n",
    "    df = pd.DataFrame({'value': data_values, 'group': data_groups})\n",
    "\n",
    "    # Checking for normality and homogeneity of variances\n",
    "    normality_p_values = [stats.shapiro(df[df['group'] == group]['value']).pvalue for group in group_labels]\n",
    "    normal = all(p > 0.05 for p in normality_p_values)\n",
    "    homogeneity_p_value = stats.levene(*groups).pvalue\n",
    "    homogeneous = homogeneity_p_value > 0.05\n",
    "\n",
    "    if normal and homogeneous:\n",
    "        print(\"The data is normal and homogeneous, performing ANOVA.\")\n",
    "        # Perform ANOVA\n",
    "        model = ols('value ~ C(group)', data=df).fit()\n",
    "        anova_result = sm.stats.anova_lm(model, typ=2)\n",
    "        conclusion = \"There is no significant difference between the groups.\" if anova_result['PR(>F)'].iloc[0] > 0.05 else \"There is a significant difference between the groups.\"\n",
    "        return f\"ANOVA Result:\\n{anova_result}\\nConclusion: {conclusion}\"\n",
    "    else:\n",
    "        print(\"The data is not normal and/or not homogeneous, performing non-parametric Kruskal-Wallis test.\")\n",
    "        # Perform Kruskal-Wallis Test\n",
    "        kruskal_result = stats.kruskal(*groups)\n",
    "        conclusion = \"There is no significant difference between the groups.\" if kruskal_result.pvalue > 0.05 else \"There is a significant difference between the groups.\"\n",
    "        return f\"Kruskal-Wallis Test Result:\\nH-statistic: {kruskal_result.statistic}\\nP-value: {kruskal_result.pvalue}\\nConclusion: {conclusion}\""
   ]
  },
  {
   "cell_type": "code",
   "execution_count": 40,
   "metadata": {
    "ExecuteTime": {
     "end_time": "2024-02-01T12:30:19.712422800Z",
     "start_time": "2024-02-01T12:30:19.697121900Z"
    }
   },
   "outputs": [],
   "source": [
    "def is_default(bankrupt_agents, threshold, system_size):\n",
    "    return bankrupt_agents >= threshold * system_size\n",
    "\n",
    "def calculate_default_probability(bankrupt_agents_list, threshold, system_size):\n",
    "    defaults = [is_default(ba, threshold, system_size) for ba in bankrupt_agents_list]\n",
    "    num_defaults = sum(defaults)\n",
    "    default_probability = num_defaults / len(bankrupt_agents_list) if len(bankrupt_agents_list) > 0 else 0\n",
    "    return default_probability, num_defaults\n",
    "\n",
    "def adjust_bankrupt_agents(num_bankrupt_agents_str, diff_bankrupt_agents_str):\n",
    "    num_bankrupt_agents = convert_string_to_list(num_bankrupt_agents_str)\n",
    "    diff_bankrupt_agents = convert_string_to_list(diff_bankrupt_agents_str)\n",
    "    return [num_bankrupt_agents[0]] + diff_bankrupt_agents[:-1]"
   ]
  },
  {
   "cell_type": "code",
   "execution_count": 41,
   "metadata": {
    "ExecuteTime": {
     "end_time": "2024-02-01T12:30:21.167258100Z",
     "start_time": "2024-02-01T12:30:21.138471200Z"
    }
   },
   "outputs": [],
   "source": [
    "def plot_default_size(data_array_num_model, data_array_diff_model, data_array_num_paper, data_array_diff_paper, titles, system_sizes, default_consideration_threshold):\n",
    "    all_data_model = {}\n",
    "    all_data_paper = {}\n",
    "\n",
    "    # Process model data\n",
    "    for system_size, num_data, diff_data in zip(system_sizes, data_array_num_model, data_array_diff_model):\n",
    "        default_probabilities = []\n",
    "        for num_str, diff_str in zip(num_data, diff_data):\n",
    "            adjusted_bankrupt_agents = adjust_bankrupt_agents(num_str, diff_str)\n",
    "            default_probability, _ = calculate_default_probability(adjusted_bankrupt_agents, default_consideration_threshold, system_size)\n",
    "            default_probabilities.append(default_probability)\n",
    "        all_data_model[system_size] = default_probabilities\n",
    "\n",
    "    # Process paper data\n",
    "    for system_size, num_data, diff_data in zip(system_sizes, data_array_num_paper, data_array_diff_paper):\n",
    "        default_probabilities = []\n",
    "        for num_str, diff_str in zip(num_data, diff_data):\n",
    "            adjusted_bankrupt_agents = adjust_bankrupt_agents(num_str, diff_str)\n",
    "            default_probability, _ = calculate_default_probability(adjusted_bankrupt_agents, default_consideration_threshold, system_size)\n",
    "            default_probabilities.append(default_probability)\n",
    "        all_data_paper[system_size] = default_probabilities\n",
    "\n",
    "    # Plotting box plots\n",
    "    plt.figure(figsize=(10, 6))\n",
    "    positions_model = [i*2 for i, _ in enumerate(system_sizes)]\n",
    "    positions_paper = [i*2 + 1 for i, _ in enumerate(system_sizes)]\n",
    "\n",
    "    box_data_model = [all_data_model[size] for size in system_sizes]\n",
    "    box_data_paper = [all_data_paper[size] for size in system_sizes]\n",
    "\n",
    "    plt.boxplot(box_data_model, positions=positions_model, widths=0.6, patch_artist=True, boxprops=dict(facecolor='blue'))\n",
    "    plt.boxplot(box_data_paper, positions=positions_paper, widths=0.6, patch_artist=True, boxprops=dict(facecolor='orange'))\n",
    "\n",
    "    # Adding titles and labels\n",
    "    plt.xticks([i*2 + 0.5 for i, _ in enumerate(system_sizes)], [f'N={size}' for size in system_sizes])\n",
    "    plt.xlabel('System Size')\n",
    "    plt.ylabel('Default Probability')\n",
    "    plt.title('Comparison of Default Probability per System Size')\n",
    "    plt.legend(['Model', 'Paper'])\n",
    "    plt.grid(True)\n",
    "    plt.show()"
   ]
  },
  {
   "cell_type": "code",
   "execution_count": 46,
   "metadata": {
    "ExecuteTime": {
     "end_time": "2024-02-01T12:33:58.944005200Z",
     "start_time": "2024-02-01T12:33:58.597108300Z"
    },
    "collapsed": false
   },
   "outputs": [
    {
     "data": {
      "image/png": "[encoded data removed]",
      "text/plain": [
       "<Figure size 1000x600 with 1 Axes>"
      ]
     },
     "metadata": {},
     "output_type": "display_data"
    }
   ],
   "source": [
    "system_sizes = [100, 200, 300]\n",
    "# set default threshold\n",
    "default_consideration_threshold = 0.001\n",
    "plot_default_size(data_array_num_model=data_plot_2_our_model_num_agents, data_array_diff_model=data_plot_2_our_model_diff_agents, data_array_num_paper=data_plot_2_paper_num_agents, data_array_diff_paper=data_plot_2_paper_diff_agents, titles=titles, system_sizes=system_sizes, default_consideration_threshold=default_consideration_threshold)"
   ]
  },
  {
   "cell_type": "code",
   "execution_count": 47,
   "metadata": {
    "ExecuteTime": {
     "end_time": "2024-02-01T12:34:04.828328500Z",
     "start_time": "2024-02-01T12:34:04.781915400Z"
    }
   },
   "outputs": [],
   "source": [
    "def plot_default_size_dot(data_array_num_model, data_array_diff_model, data_array_num_paper, data_array_diff_paper, titles, system_sizes, default_consideration_threshold):\n",
    "    plt.figure(figsize=(10, 6))\n",
    "\n",
    "    all_default_probs_model = {size: [] for size in system_sizes}\n",
    "    all_default_probs_paper = {size: [] for size in system_sizes}\n",
    "\n",
    "    # Processing model data\n",
    "    for size, num_data, diff_data in zip(system_sizes, data_array_num_model, data_array_diff_model):\n",
    "        for num_str, diff_str in zip(num_data, diff_data):\n",
    "            adjusted_bankrupt_agents = adjust_bankrupt_agents(num_str, diff_str)\n",
    "            default_probability, _ = calculate_default_probability(adjusted_bankrupt_agents, default_consideration_threshold, size)\n",
    "            all_default_probs_model[size].append(default_probability)\n",
    "\n",
    "    # Processing paper data\n",
    "    for size, num_data, diff_data in zip(system_sizes, data_array_num_paper, data_array_diff_paper):\n",
    "        for num_str, diff_str in zip(num_data, diff_data):\n",
    "            adjusted_bankrupt_agents = adjust_bankrupt_agents(num_str, diff_str)\n",
    "            default_probability, _ = calculate_default_probability(adjusted_bankrupt_agents, default_consideration_threshold, size)\n",
    "            all_default_probs_paper[size].append(default_probability)\n",
    "\n",
    "    # Plotting model data\n",
    "    for size in system_sizes:\n",
    "        plt.scatter([size] * len(all_default_probs_model[size]), all_default_probs_model[size], alpha=0.5, color='blue', label='Model' if size == system_sizes[0] else \"\")\n",
    "        mean_prob_model = np.mean(all_default_probs_model[size])\n",
    "        std_prob_model = np.std(all_default_probs_model[size])\n",
    "        plt.errorbar(size, mean_prob_model, yerr=std_prob_model, fmt='o', color='red', capsize=5, label='Mean with Std Dev - Model' if size == system_sizes[0] else \"\")\n",
    "\n",
    "    # Plotting paper data\n",
    "    for size in system_sizes:\n",
    "        plt.scatter([size + 0.2] * len(all_default_probs_paper[size]), all_default_probs_paper[size], alpha=0.5, color='green', label='Paper' if size == system_sizes[0] else \"\")\n",
    "        mean_prob_paper = np.mean(all_default_probs_paper[size])\n",
    "        std_prob_paper = np.std(all_default_probs_paper[size])\n",
    "        plt.errorbar(size + 0.2, mean_prob_paper, yerr=std_prob_paper, fmt='o', color='orange', capsize=5, label='Mean with Std Dev - Paper' if size == system_sizes[0] else \"\")\n",
    "\n",
    "    # Formatting the plot\n",
    "    plt.xlabel('System Size')\n",
    "    plt.ylabel('Default Probability')\n",
    "    plt.title('Default Probability per System Size with Standard Deviation')\n",
    "    plt.legend()\n",
    "    plt.grid(True)\n",
    "    plt.show()"
   ]
  },
  {
   "cell_type": "code",
   "execution_count": 48,
   "metadata": {
    "ExecuteTime": {
     "end_time": "2024-02-01T12:34:09.668218800Z",
     "start_time": "2024-02-01T12:34:08.825118500Z"
    },
    "collapsed": false
   },
   "outputs": [
    {
     "data": {
      "image/png": "[encoded data removed]",
      "text/plain": [
       "<Figure size 1000x600 with 1 Axes>"
      ]
     },
     "metadata": {},
     "output_type": "display_data"
    }
   ],
   "source": [
    "plot_default_size_dot(\n",
    "    data_array_num_model=data_plot_2_our_model_num_agents,\n",
    "    data_array_diff_model=data_plot_2_our_model_diff_agents,\n",
    "    data_array_num_paper=data_plot_2_paper_num_agents,\n",
    "    data_array_diff_paper=data_plot_2_paper_diff_agents,\n",
    "    titles=titles,\n",
    "    system_sizes=system_sizes,\n",
    "    default_consideration_threshold=default_consideration_threshold\n",
    ")"
   ]
  },
  {
   "cell_type": "code",
   "execution_count": null,
   "metadata": {
    "ExecuteTime": {
     "start_time": "2024-02-01T11:40:55.266924Z"
    }
   },
   "outputs": [],
   "source": [
    "# def plot_default_size(data_array_diff, titles, system_sizes, default_consideration_threshold):\n",
    "#     all_data = {}  # Dictionary to store default probabilities for each system size\n",
    "\n",
    "#     # Iterate over each system size and its corresponding data\n",
    "#     for file_index, (diff_file, title, system_size) in enumerate(zip(data_array_diff, titles, system_sizes)):\n",
    "\n",
    "#         # List to store default probabilities for this system size\n",
    "#         default_probabilities = []\n",
    "\n",
    "#         # Iterate over each run in the dataset\n",
    "#         for run in range(diff_file.shape[0]):\n",
    "#             # Extract and convert the difference of bankrupt agents for each run\n",
    "#             diff_bankrupt_agents = convert_string_to_list(diff_file.iloc[run])\n",
    "\n",
    "#             if diff_bankrupt_agents:\n",
    "#                 # Calculate the default probability for this run\n",
    "#                 default_probability, _ = calculate_default_probability(diff_bankrupt_agents, default_consideration_threshold, system_size)\n",
    "#                 default_probabilities.append(default_probability)\n",
    "\n",
    "#         # Store the default probabilities for this system size\n",
    "#         all_data[system_size] = default_probabilities\n",
    "\n",
    "#     # Creating box plots\n",
    "#     plt.figure(figsize=(10, 6))\n",
    "#     plt.boxplot(all_data.values(), labels=[f'N={size}' for size in all_data.keys()])\n",
    "#     plt.xlabel('System Size')\n",
    "#     plt.ylabel('Default Probability')\n",
    "#     plt.title('Box Plot of Default Probability per System Size')\n",
    "#     plt.grid(True)\n",
    "#     plt.show()"
   ]
  },
  {
   "cell_type": "code",
   "execution_count": null,
   "metadata": {
    "ExecuteTime": {
     "start_time": "2024-02-01T11:40:55.267995800Z"
    }
   },
   "outputs": [],
   "source": [
    "# def plot_default_size(data_array_diff, titles, system_sizes, default_consideration_threshold):\n",
    "#     all_data = {}  # Dictionary to store default probabilities for each system size\n",
    "\n",
    "#     # Iterate over each system size and its corresponding data\n",
    "#     for file_index, (diff_file, title, system_size) in enumerate(zip(data_array_diff, titles, system_sizes)):\n",
    "\n",
    "#         # List to store default probabilities for this system size\n",
    "#         default_probabilities = []\n",
    "\n",
    "#         # Iterate over each run in the dataset\n",
    "#         for run in range(diff_file.shape[0]):\n",
    "#             # Extract and convert the difference of bankrupt agents for each run\n",
    "#             diff_bankrupt_agents = convert_string_to_list(diff_file.iloc[run])\n",
    "\n",
    "#             if diff_bankrupt_agents:\n",
    "#                 # Calculate the default probability for this run\n",
    "#                 default_probability, num_defaults = calculate_default_probability(diff_bankrupt_agents, default_consideration_threshold, system_size)\n",
    "#                 default_probabilities.append(default_probability)\n",
    "\n",
    "#         # Store the default probabilities for this system size\n",
    "#         all_data[system_size] = default_probabilities\n",
    "\n",
    "#     # Creating box plots\n",
    "#     plt.figure(figsize=(10, 6))\n",
    "#     plt.boxplot(all_data.values(), labels=[f'N={size}' for size in all_data.keys()])\n",
    "#     plt.xlabel('System Size')\n",
    "#     plt.ylabel('Default Probability')\n",
    "#     plt.title('Box Plot of Default Probability per System Size')\n",
    "#     plt.grid(True)\n",
    "#     plt.show()"
   ]
  },
  {
   "cell_type": "markdown",
   "metadata": {},
   "source": [
    "# Plot 2: papers model"
   ]
  },
  {
   "cell_type": "markdown",
   "metadata": {},
   "source": [
    "# Plot 3"
   ]
  },
  {
   "cell_type": "code",
   "execution_count": null,
   "metadata": {
    "ExecuteTime": {
     "start_time": "2024-02-01T11:40:55.278892800Z"
    }
   },
   "outputs": [],
   "source": [
    "directory_path = R'.\\Data groupmates\\Varying sigma\\interest'\n",
    "all_items = os.listdir(directory_path)"
   ]
  },
  {
   "cell_type": "code",
   "execution_count": null,
   "metadata": {
    "ExecuteTime": {
     "start_time": "2024-02-01T11:40:55.280330200Z"
    }
   },
   "outputs": [],
   "source": [
    "def calculate_probability(num_list, threshold = 0.6):\n",
    "    nums = len([i for i in num_list if i >= threshold])\n",
    "    return nums / len(num_list)\n",
    "\n",
    "def group_files(directory: str = './', mode:str = 'sigma_interest_rates'):\n",
    "    grouped_files = {}\n",
    "    for filename in os.listdir(directory):\n",
    "        if filename.endswith('.csv'):\n",
    "            parts = filename.split('_')\n",
    "            if mode == 'sigma_interest_rates':\n",
    "                key = tuple(parts[:4] + parts[5:-1])\n",
    "                if key not in grouped_files:\n",
    "                    grouped_files[key] = {'filenames': [], 'sigma_interest_rates': []}\n",
    "                grouped_files[key]['filenames'].append(filename)\n",
    "                grouped_files[key]['sigma_interest_rates'].append(parts[4])\n",
    "            if mode == 'sigma_exposure_node':\n",
    "                key = tuple(parts[:3] + parts[4:-1])\n",
    "                if key not in grouped_files:\n",
    "                    grouped_files[key] = {'filenames': [], 'sigma_exposure_node': []}\n",
    "                grouped_files[key]['filenames'].append(filename)\n",
    "                grouped_files[key]['sigma_exposure_node'].append(parts[3])\n",
    "    return grouped_files"
   ]
  },
  {
   "cell_type": "code",
   "execution_count": null,
   "metadata": {
    "ExecuteTime": {
     "start_time": "2024-02-01T11:40:55.281646200Z"
    }
   },
   "outputs": [],
   "source": [
    "def plot_avalanche_prob_vs_volatility(directory:str = './', threshold = 10, mode:str = 'sigma_interest_rates'):\n",
    "    \n",
    "    groups = group_files(directory, mode)\n",
    "\n",
    "    for key, value in groups.items():\n",
    "        print(\"Key:\", key)\n",
    "        bankrupt_nodes_list = []\n",
    "        filenames = value['filenames']\n",
    "        for filename in filenames:\n",
    "            full_path = os.path.join(directory, filename)\n",
    "            df = pd.read_csv(full_path)\n",
    "            bankrupt_nodes = []\n",
    "            for i in range(len(df)):\n",
    "                if pd.isna(df['Abs Difference of Bankrupt Agents Over Time'].iloc[i]) or pd.isna(df['Number of Bankrupt Agents Over Time'].iloc[i]):\n",
    "                    continue\n",
    "                else: \n",
    "                    bankrupt_node = calculate_probability(ast.literal_eval(df['Abs Difference of Bankrupt Agents Over Time'].iloc[i]), threshold = threshold)\n",
    "                    bankrupt_nodes.append(bankrupt_node)\n",
    "            bankrupt_nodes_list.append(bankrupt_nodes)\n",
    "\n",
    "        if mode == 'sigma_interest_rates':\n",
    "            sigmas = value['sigma_interest_rates']\n",
    "        if mode == 'sigma_exposure_node':\n",
    "            sigmas = value['sigma_exposure_node']\n",
    "            \n",
    "        combined = sorted(zip(sigmas, bankrupt_nodes_list))\n",
    "        sigmas_sorted, bankrupt_nodes_list_sorted = zip(*combined)\n",
    "        plt.figure(figsize=(10, 6))\n",
    "        plt.boxplot(bankrupt_nodes_list_sorted, labels=sigmas_sorted)\n",
    "        plt.xlabel(mode.replace('_', ' ').title())\n",
    "        plt.ylabel('Default Prob')\n",
    "        plt.title('Avalanche Prob vs. Volatility')\n",
    "        plt.show()"
   ]
  },
  {
   "cell_type": "code",
   "execution_count": null,
   "metadata": {
    "ExecuteTime": {
     "start_time": "2024-02-01T11:40:55.282983700Z"
    }
   },
   "outputs": [],
   "source": [
    "def plot_avalanche_prob_vs_volatility(directory:str = './', threshold=10, mode:str='sigma_interest_rates'):\n",
    "    groups = group_files(directory, mode)\n",
    "    all_group_data = []  # This will store the bankruptcy nodes for all groups for ANOVA testing\n",
    "\n",
    "    for key, value in groups.items():\n",
    "        print(\"Key:\", key)\n",
    "        bankrupt_nodes_list = []\n",
    "        filenames = value['filenames']\n",
    "        for filename in filenames:\n",
    "            full_path = os.path.join(directory, filename)\n",
    "            df = pd.read_csv(full_path)\n",
    "            bankrupt_nodes = []\n",
    "            for i in range(len(df)):\n",
    "                if pd.isna(df['Abs Difference of Bankrupt Agents Over Time'].iloc[i]) or pd.isna(df['Number of Bankrupt Agents Over Time'].iloc[i]):\n",
    "                    continue\n",
    "                else:\n",
    "                    bankrupt_node = calculate_probability(ast.literal_eval(df['Abs Difference of Bankrupt Agents Over Time'].iloc[i]), threshold=threshold)\n",
    "                    bankrupt_nodes.append(bankrupt_node)\n",
    "            bankrupt_nodes_list.append(np.mean(bankrupt_nodes))  # Use mean probability for ANOVA\n",
    "\n",
    "        if mode == 'sigma_interest_rates':\n",
    "            sigmas = value['sigma_interest_rates']\n",
    "        elif mode == 'sigma_exposure_node':\n",
    "            sigmas = value['sigma_exposure_node']\n",
    "            \n",
    "        combined = sorted(zip(sigmas, bankrupt_nodes_list))\n",
    "        sigmas_sorted, bankrupt_nodes_list_sorted = zip(*combined)\n",
    "        plt.figure(figsize=(10, 6))\n",
    "        plt.boxplot(bankrupt_nodes_list_sorted, labels=sigmas_sorted)\n",
    "        plt.xlabel(mode.replace('_', ' ').title())\n",
    "        plt.ylabel('Default Prob')\n",
    "        plt.title('Avalanche Prob vs. Volatility')\n",
    "        plt.show()\n",
    "\n",
    "        # Add the list of bankrupt nodes to the all_group_data for ANOVA testing\n",
    "        all_group_data.append([np.mean(group) for group in bankrupt_nodes_list_sorted])  # Flatten and mean for ANOVA\n",
    "\n",
    "    # After collecting all the data, perform ANOVA testing\n",
    "    print(compare_group_means(*all_group_data))"
   ]
  },
  {
   "cell_type": "code",
   "execution_count": null,
   "metadata": {
    "ExecuteTime": {
     "start_time": "2024-02-01T11:40:55.285317800Z"
    }
   },
   "outputs": [],
   "source": [
    "def plot_avalanche_prob_vs_volatility(directory: str = './', threshold=10, mode: str = 'sigma_interest_rates'):\n",
    "    groups = group_files(directory, mode)\n",
    "\n",
    "    for key, value in groups.items():\n",
    "        print(\"Key:\", key)\n",
    "        bankrupt_nodes_list = []\n",
    "        filenames = value['filenames']\n",
    "        for filename in filenames:\n",
    "            full_path = os.path.join(directory, filename)\n",
    "            df = pd.read_csv(full_path)\n",
    "            bankrupt_nodes = []\n",
    "            for i in range(len(df)):\n",
    "                if pd.isna(df['Abs Difference of Bankrupt Agents Over Time'].iloc[i]) or pd.isna(df['Number of Bankrupt Agents Over Time'].iloc[i]):\n",
    "                    continue\n",
    "                else: \n",
    "                    bankrupt_node = calculate_probability(ast.literal_eval(df['Abs Difference of Bankrupt Agents Over Time'].iloc[i]), threshold=threshold)\n",
    "                    bankrupt_nodes.append(bankrupt_node)\n",
    "            bankrupt_nodes_list.append(bankrupt_nodes)\n",
    "\n",
    "        if mode == 'sigma_interest_rates':\n",
    "            sigmas = value['sigma_interest_rates']\n",
    "        if mode == 'sigma_exposure_node':\n",
    "            sigmas = value['sigma_exposure_node']\n",
    "            \n",
    "        combined = sorted(zip(sigmas, bankrupt_nodes_list))\n",
    "        sigmas_sorted, bankrupt_nodes_list_sorted = zip(*combined)\n",
    "        plt.figure(figsize=(10, 6))\n",
    "        plt.boxplot(bankrupt_nodes_list_sorted, labels=sigmas_sorted)\n",
    "        plt.xlabel(mode.replace('_', ' ').title())\n",
    "        plt.ylabel('Default Prob')\n",
    "        plt.title('Avalanche Prob vs. Volatility for ' + str(key))\n",
    "        \n",
    "        # Now we perform the ANOVA test\n",
    "        if len(bankrupt_nodes_list_sorted) >= 2:  # Ensure there are at least 23 groups for ANOVA\n",
    "            anova_results = compare_group_means(*bankrupt_nodes_list_sorted)\n",
    "            print(anova_results)\n",
    "        \n",
    "        plt.show()"
   ]
  },
  {
   "cell_type": "code",
   "execution_count": null,
   "metadata": {
    "ExecuteTime": {
     "start_time": "2024-02-01T11:40:55.286383200Z"
    }
   },
   "outputs": [],
   "source": [
    "plot_avalanche_prob_vs_volatility(directory = directory_path, threshold = 20, mode='sigma_interest_rates')"
   ]
  },
  {
   "cell_type": "code",
   "execution_count": null,
   "metadata": {},
   "outputs": [],
   "source": [
    "def plot_avalanche_prob_vs_volatility_combined(directory:str = './', threshold = 10, mode:str = 'sigma_exposure_node'):\n",
    "    \n",
    "    groups = group_files(directory, mode)\n",
    "    plt.figure(figsize=(10, 6))\n",
    "    colors = ['skyblue', 'lightgreen']\n",
    "    color_index = 0\n",
    "\n",
    "    legend_handles = []\n",
    "    \n",
    "    for key, value in groups.items():       \n",
    "        bankrupt_nodes_list = []\n",
    "        filenames = value['filenames']\n",
    "        for filename in filenames:\n",
    "            full_path = os.path.join(directory, filename)\n",
    "            df = pd.read_csv(full_path)\n",
    "            bankrupt_nodes = []\n",
    "            for i in range(len(df)):\n",
    "                if pd.isna(df['Abs Difference of Bankrupt Agents Over Time'].iloc[i]) or pd.isna(df['Number of Bankrupt Agents Over Time'].iloc[i]):\n",
    "                    continue\n",
    "                else: \n",
    "                    bankrupt_node = calculate_probability(ast.literal_eval(df['Abs Difference of Bankrupt Agents Over Time'].iloc[i]), threshold = threshold)\n",
    "                    bankrupt_nodes.append(bankrupt_node)\n",
    "            bankrupt_nodes_list.append(bankrupt_nodes)\n",
    "            \n",
    "        sigmas = value['sigma_exposure_node']\n",
    "        combined = sorted(zip(sigmas, bankrupt_nodes_list))\n",
    "        sigmas_sorted, bankrupt_nodes_list_sorted = zip(*combined)\n",
    "        \n",
    "        boxplots = plt.boxplot(bankrupt_nodes_list_sorted, labels=sigmas_sorted, patch_artist=True)\n",
    "        for patch in boxplots['boxes']:\n",
    "            patch.set_facecolor(colors[color_index % len(colors)])\n",
    "        color_index += 1\n",
    "        legend_handles.append(plt.Line2D([0], [0], color=colors[color_index % len(colors)], label=key[8:]))\n",
    "            \n",
    "    plt.figtext(0.5, 0, f\"Parameters: {key}\", wrap=True, horizontalalignment='center', fontsize=10)\n",
    "    \n",
    "    plt.xlabel(mode.replace('_', ' ').title())\n",
    "    plt.ylabel('Default Prob')\n",
    "    plt.title('Avalanche Prob vs. Volatility')\n",
    "    plt.legend(handles=legend_handles)\n",
    "    plt.show()"
   ]
  },
  {
   "cell_type": "code",
   "execution_count": null,
   "metadata": {},
   "outputs": [],
   "source": [
    "plot_avalanche_prob_vs_volatility_combined(directory = directory_path, threshold = 20, mode='sigma_exposure_node')"
   ]
  },
  {
   "cell_type": "code",
   "execution_count": null,
   "metadata": {
    "ExecuteTime": {
     "start_time": "2024-02-01T11:40:55.287504200Z"
    }
   },
   "outputs": [],
   "source": [
    "directory_path = R'.\\Data groupmates\\Varying sigma\\exposure'\n",
    "all_items = os.listdir(directory_path)"
   ]
  },
  {
   "cell_type": "code",
   "execution_count": null,
   "metadata": {
    "ExecuteTime": {
     "start_time": "2024-02-01T11:40:55.288512900Z"
    }
   },
   "outputs": [],
   "source": [
    "all_items"
   ]
  },
  {
   "cell_type": "code",
   "execution_count": null,
   "metadata": {
    "ExecuteTime": {
     "start_time": "2024-02-01T11:40:55.289619900Z"
    }
   },
   "outputs": [],
   "source": [
    "plot_avalanche_prob_vs_volatility(directory = directory_path, threshold = 10, mode='sigma_exposure_node')"
   ]
  },
  {
   "cell_type": "code",
   "execution_count": null,
   "metadata": {
    "ExecuteTime": {
     "start_time": "2024-02-01T11:40:55.291756500Z"
    }
   },
   "outputs": [],
   "source": [
    "def stress_vs_avalanche_prob_vs_volatility(directory:str = './', threshold = 10, mode:str = 'sigma_interest_rates'):\n",
    "    \n",
    "    groups = group_files(directory, mode)\n",
    "\n",
    "    for key, value in groups.items():\n",
    "        print(\"Key:\", key)\n",
    "        bankrupt_nodes_avg_list = []\n",
    "        total_edge_exposures = []\n",
    "        filenames = value['filenames']\n",
    "        for filename in filenames:\n",
    "            full_path = os.path.join(directory, filename)\n",
    "            df = pd.read_csv(full_path)\n",
    "            bankrupt_nodes = []\n",
    "            for i in range(len(df)):\n",
    "                if pd.isna(df['Abs Difference of Bankrupt Agents Over Time'].iloc[i]) or pd.isna(df['Number of Bankrupt Agents Over Time'].iloc[i]):\n",
    "                    continue\n",
    "                else: \n",
    "                    bankrupt_node = calculate_probability(ast.literal_eval(df['Abs Difference of Bankrupt Agents Over Time'].iloc[i]), threshold = threshold)\n",
    "                    bankrupt_nodes.append(bankrupt_node)\n",
    "            bankrupt_nodes_avg = np.mean(bankrupt_nodes)\n",
    "            bankrupt_nodes_avg_list.append(bankrupt_nodes_avg)\n",
    "\n",
    "            exposures = [ast.literal_eval(x) for x in df['Total Absolute Exposure in Edge Weights'] if not pd.isna(x)]\n",
    "            exposures_avg = [np.mean(x) for x in exposures]\n",
    "            total_edge_exposure_avg = np.mean(exposures_avg)\n",
    "            total_edge_exposures.append(total_edge_exposure_avg)\n",
    "\n",
    "            \n",
    "        if mode == 'sigma_interest_rates':\n",
    "            sigmas = value['sigma_interest_rates']\n",
    "        if mode == 'sigma_exposure_node':\n",
    "            sigmas = value['sigma_exposure_node']\n",
    "\n",
    "        sigmas = [float(sigma) for sigma in sigmas]\n",
    "        combined = sorted(zip(sigmas, bankrupt_nodes_avg_list, total_edge_exposures))\n",
    "        sigmas_sorted, bankrupt_nodes_list_sorted, total_edge_exposures_sorted = zip(*combined)\n",
    "\n",
    "\n",
    "    fig = plt.figure(figsize=(12, 8))\n",
    "    ax = fig.add_subplot(111, projection='3d')\n",
    "\n",
    "    surf = ax.plot_trisurf(sigmas_sorted, total_edge_exposures_sorted, bankrupt_nodes_list_sorted)\n",
    "\n",
    "    ax.set_xlabel(mode.replace('_', ' ').title())\n",
    "    ax.set_ylabel('Total Absolute Exposure in Edge Weights')\n",
    "    ax.set_zlabel('Default Prob')\n",
    "    ax.set_title('Stress vs. Avalanche Prob vs. Volatility', fontdict={'fontsize': 14})\n",
    "    ax.view_init(elev=30, azim=60)\n",
    "\n",
    "    plt.show()"
   ]
  },
  {
   "cell_type": "code",
   "execution_count": null,
   "metadata": {
    "ExecuteTime": {
     "start_time": "2024-02-01T11:40:55.292764800Z"
    }
   },
   "outputs": [],
   "source": [
    "stress_vs_avalanche_prob_vs_volatility(directory=directory_path, mode = 'sigma_exposure_node')"
   ]
  },
  {
   "cell_type": "markdown",
   "metadata": {},
   "source": [
    "# Plot 4"
   ]
  },
  {
   "cell_type": "code",
   "execution_count": null,
   "metadata": {
    "ExecuteTime": {
     "start_time": "2024-02-01T11:40:55.293806700Z"
    }
   },
   "outputs": [],
   "source": []
  },
  {
   "cell_type": "code",
   "execution_count": null,
   "metadata": {
    "ExecuteTime": {
     "start_time": "2024-02-01T11:40:55.296005800Z"
    }
   },
   "outputs": [],
   "source": [
    "directory_path = R'./Data groupmates/Varying threshold/'\n",
    "\n",
    "# List everything in the directory\n",
    "all_items = os.listdir(directory_path)\n"
   ]
  },
  {
   "cell_type": "code",
   "execution_count": null,
   "metadata": {
    "ExecuteTime": {
     "start_time": "2024-02-01T11:40:55.297260900Z"
    }
   },
   "outputs": [],
   "source": [
    "all_items"
   ]
  },
  {
   "cell_type": "code",
   "execution_count": null,
   "metadata": {
    "ExecuteTime": {
     "start_time": "2024-02-01T11:40:55.298664Z"
    }
   },
   "outputs": [],
   "source": [
    "def get_statistics_vary_threshold_v(pattern: str = './200_2000_*.csv'):\n",
    "    def safe_literal_eval(s):\n",
    "        try:\n",
    "            return ast.literal_eval(s)\n",
    "        except (ValueError, SyntaxError):\n",
    "            return np.nan\n",
    "\n",
    "    def calculate_average_list(column):\n",
    "        return column.apply(safe_literal_eval).apply(lambda x: np.mean(x) if isinstance(x, list) and len(x) > 0 else np.nan)\n",
    "\n",
    "    abs_diff_avg_per_run_per_threshold = {}\n",
    "\n",
    "    for filepath in glob.glob(pattern):\n",
    "        df = pd.read_csv(filepath)\n",
    "        filename = os.path.basename(filepath).replace('.csv', '')\n",
    "        parts = filename.split('_')\n",
    "        threshold_v = float(parts[5])\n",
    "        abs_diff_avg = calculate_average_list(df['Abs Difference of Bankrupt Agents Over Time'])\n",
    "        if threshold_v not in abs_diff_avg_per_run_per_threshold:\n",
    "            abs_diff_avg_per_run_per_threshold[threshold_v] = []\n",
    "        abs_diff_avg_per_run_per_threshold[threshold_v].append(abs_diff_avg)\n",
    "\n",
    "    return abs_diff_avg_per_run_per_threshold"
   ]
  },
  {
   "cell_type": "code",
   "execution_count": null,
   "metadata": {
    "ExecuteTime": {
     "start_time": "2024-02-01T11:40:55.299847300Z"
    }
   },
   "outputs": [],
   "source": [
    "def perform_pairwise_comparisons(data_to_plot1, data_to_plot2, thresholds):\n",
    "    for i in range(min(len(data_to_plot1), len(data_to_plot2))):\n",
    "        result = compare_group_means(data_to_plot1[i], data_to_plot2[i])\n",
    "        print(f\"Comparison for Threshold {thresholds[i]}: \\n {result}\\n\")"
   ]
  },
  {
   "cell_type": "code",
   "execution_count": null,
   "metadata": {
    "ExecuteTime": {
     "start_time": "2024-02-01T11:40:55.300992300Z"
    }
   },
   "outputs": [],
   "source": [
    "# First dataset，our model\n",
    "pattern1 = './Data groupmates/Varying threshold/100_10000_1_1_1_*_1_3_400_hard cutoff_divide exposure singly_intrest_rate_*.csv'\n",
    "all_results1 = get_statistics_vary_threshold_v(pattern=pattern1)\n",
    "data1 = all_results1\n",
    "thresholds1 = list(data1.keys())\n",
    "data_to_plot1 = []\n",
    "for values in data1.values():\n",
    "    flattened_values = [x for sublist in values for x in sublist if not np.isnan(x)]\n",
    "    data_to_plot1.append(np.array(flattened_values))\n",
    "sorted_data1 = sorted(zip(thresholds1, data_to_plot1), key=lambda x: x[0])\n",
    "thresholds1, data_to_plot1 = zip(*sorted_data1)\n",
    "\n",
    "# Second dataset, paper model\n",
    "pattern2 = './Data groupmates/Varying threshold/100_10000_1_1_1_*_1_3_400_hard cutoff_random link logic_exposure_*.csv'\n",
    "all_results2 = get_statistics_vary_threshold_v(pattern=pattern2)\n",
    "data2 = all_results2\n",
    "thresholds2 = list(data2.keys())\n",
    "data_to_plot2 = []\n",
    "for values in data2.values():\n",
    "    flattened_values = [x for sublist in values for x in sublist if not np.isnan(x)]\n",
    "    data_to_plot2.append(np.array(flattened_values))\n",
    "# Sorting the data by threshold values in ascending order\n",
    "sorted_data2 = sorted(zip(thresholds2, data_to_plot2), key=lambda x: x[0])\n",
    "thresholds2, data_to_plot2 = zip(*sorted_data2)\n",
    "\n",
    "# Creating the boxplot\n",
    "plt.figure(figsize=(10, 6))\n",
    "\n",
    "# Plotting the boxplot for the first dataset\n",
    "bp1 = plt.boxplot(data_to_plot1, positions=np.array(range(len(data_to_plot1)))*2.0-0.4, widths=0.6, patch_artist=True, boxprops=dict(facecolor='C0', color='C0'), whiskerprops=dict(color='C0'), capprops=dict(color='C0'), medianprops=dict(color='C2'), flierprops=dict(markeredgecolor='C0'))\n",
    "\n",
    "# Plotting the boxplot for the second dataset\n",
    "bp2 = plt.boxplot(data_to_plot2, positions=np.array(range(len(data_to_plot2)))*2.0+0.4, widths=0.6, patch_artist=True, boxprops=dict(facecolor='C1', color='C1'), whiskerprops=dict(color='C1'), capprops=dict(color='C1'), medianprops=dict(color='C2'), flierprops=dict(markeredgecolor='C1'))\n",
    "\n",
    "# Adding dummy lines for the legend\n",
    "plt.plot([], c='C0', label='divide exposure singly_intrest_rate')\n",
    "plt.plot([], c='C1', label='random link logic_exposure')\n",
    "\n",
    "# Setting the axis labels and title\n",
    "plt.xlabel('Threshold_v')\n",
    "plt.ylabel('Abs Difference of Bankrupt Agents Over Time')\n",
    "plt.title('Boxplot of Abs Difference of Bankrupt Agents Over Time by Threshold_v')\n",
    "\n",
    "# Setting the tick labels on the x-axis\n",
    "plt.xticks(np.arange(0, len(thresholds1) * 2, 2), thresholds1)\n",
    "plt.xticks(rotation=45)\n",
    "plt.tight_layout()\n",
    "plt.legend()\n",
    "\n",
    "\n",
    "\n",
    "plt.show()\n",
    "# Call the compare_group_means function with your datasets\n",
    "perform_pairwise_comparisons(data_to_plot1, data_to_plot2, thresholds1)"
   ]
  }
 ],
 "metadata": {
  "kernelspec": {
   "display_name": "base",
   "language": "python",
   "name": "python3"
  },
  "language_info": {
   "codemirror_mode": {
    "name": "ipython",
    "version": 3
   },
   "file_extension": ".py",
   "mimetype": "text/x-python",
   "name": "python",
   "nbconvert_exporter": "python",
   "pygments_lexer": "ipython3",
   "version": "3.11.7"
  }
 },
 "nbformat": 4,
 "nbformat_minor": 2
}
