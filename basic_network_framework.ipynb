{
 "cells": [
  {
   "cell_type": "code",
   "execution_count": 1,
   "id": "5e2587c7",
   "metadata": {},
   "outputs": [],
   "source": [
    "import random\n",
    "import numpy as np\n",
    "import matplotlib.pyplot as plt"
   ]
  },
  {
   "cell_type": "code",
   "execution_count": 2,
   "id": "d442e78b",
   "metadata": {},
   "outputs": [],
   "source": [
    "class Nodes:\n",
    "    \n",
    "    \"\"\" Nodes exposure, updating and dying, edges removing. \"\"\"\n",
    "    \n",
    "    \n",
    "    def __init__(self, exposure=None, welfare=None):\n",
    "        if exposure is None:\n",
    "            exposure = random.uniform(-1, 1)\n",
    "        self.exposure = exposure\n",
    "        self.welfare = self.exposure * stock_price\n",
    "        self.edges = []\n",
    "        self.has_connected = False\n",
    "\n",
    "        \n",
    "    def add_edges(self, other_node):\n",
    "        closest_node = min(\n",
    "            [node for node in other_node if node.exposure * self.exposure < 0],\n",
    "            key=lambda node: abs(node.exposure + self.exposure),\n",
    "            default=None\n",
    "        )\n",
    "        if closest_node:\n",
    "            past_exposure = self.exposure\n",
    "            self.exposure = abs(closest_node.exposure + self.exposure) / 2\n",
    "            closest_node.exposure = abs(closest_node.exposure + self.exposure) / 2\n",
    "            \n",
    "            edge1 = Edges(self, closest_node, past_exposure - self.exposure)\n",
    "            self.edges.append(edge1)\n",
    "            closest_node.edges.append(edge1)\n",
    "\n",
    "            edge2 = Edges(closest_node, self, self.exposure - past_exposure)\n",
    "            closest_node.edges.append(edge2)\n",
    "            self.edges.append(edge2)\n",
    "            \n",
    "            self.has_connected = True\n",
    "            closest_node.has_connected = True\n",
    "\n",
    "\n",
    "    def update_exposure(self):\n",
    "        self.exposure += random.uniform(-0.5, 0.5)\n",
    "        self.welfare = self.exposure * stock_price\n",
    "\n",
    "        \n",
    "    def death(self):\n",
    "        death_threshold = 2\n",
    "        # the threshold value still need to adjust, for example, why do we set that equaling to 2?\n",
    "        if self.exposure > death_threshold:\n",
    "            network.remove_node(self)\n",
    "        # thhe death condition need to change, so as welfare calculating\n",
    "        #if self.welfare < 0:\n",
    "            #network.remove_node(self)\n",
    "            \n",
    "            \n",
    "    def remove_edges(self):\n",
    "        for edge in list(self.edges):\n",
    "            if edge.source == self:\n",
    "                before_exposure = edge.destination.exposure\n",
    "                edge.destination.exposure -= edge.weight\n",
    "                edge.destination.edges.remove(edge)\n",
    "                difference = before_exposure - edge.destination.exposure\n",
    "                #print(before_exposure, edge.destination.exposure, difference, edge.weight)\n",
    "                #print(round(difference, 5) == round(edge.weight, 5))\n",
    "                        \n",
    "            \n",
    "    def reset_connection(self):\n",
    "        self.has_connected = False\n",
    "        "
   ]
  },
  {
   "cell_type": "code",
   "execution_count": 3,
   "id": "43a8d3f9",
   "metadata": {},
   "outputs": [],
   "source": [
    "class Edges:\n",
    "    \n",
    "    def __init__(self, source, destination, weight):\n",
    "        self.source = source\n",
    "        self.destination = destination\n",
    "        self.weight = weight\n"
   ]
  },
  {
   "cell_type": "code",
   "execution_count": 4,
   "id": "b5b46cab",
   "metadata": {},
   "outputs": [],
   "source": [
    "class Networks:\n",
    "    \n",
    "    \"\"\"Network updating and simulation.\"\"\"\n",
    "\n",
    "    \n",
    "    def __init__(self, n):\n",
    "        self.nodes = [Nodes() for _ in range(n)]\n",
    "        for node in self.nodes:\n",
    "            node.add_edges(self.nodes)\n",
    "        \n",
    "        \n",
    "    def remove_node(self, node):\n",
    "        node.remove_edges()\n",
    "        self.nodes.remove(node)\n",
    "        \n",
    "  \n",
    "    def update_network(self):\n",
    "        for node in list(self.nodes):\n",
    "            node.reset_connection()\n",
    "\n",
    "        for node in self.nodes:\n",
    "            node.add_edges(self.nodes)\n",
    "            node.update_exposure()\n",
    "            node.death()\n",
    "            \n",
    "    def get_adjacency_matrix(self):\n",
    "        size = len(self.nodes)\n",
    "        matrix = np.zeros((size, size))\n",
    "\n",
    "        for i, node in enumerate(self.nodes):\n",
    "            for edge in node.edges:\n",
    "                if edge.source == node:\n",
    "                    j = self.nodes.index(edge.destination)\n",
    "                    matrix[i, j] = edge.weight\n",
    "\n",
    "        return matrix\n",
    "\n",
    "            \n",
    "    def simulate(self, steps):\n",
    "        node_counts = []\n",
    "        for _ in range(steps):\n",
    "            self.update_network()\n",
    "            node_counts.append(len(self.nodes))\n",
    "            #adjacency = self.get_adjacency_matrix()\n",
    "            \n",
    "        return node_counts\n",
    "            "
   ]
  },
  {
   "cell_type": "code",
   "execution_count": 5,
   "id": "b54db282",
   "metadata": {},
   "outputs": [
    {
     "name": "stdout",
     "output_type": "stream",
     "text": [
      "[10, 10, 10, 10, 10, 10, 10, 10, 10, 10, 10, 10, 10, 10, 10, 10, 10, 10, 10, 10, 10, 10, 10, 9, 9, 9, 9, 9, 9, 9]\n"
     ]
    }
   ],
   "source": [
    "# By uncommenting the two lines in Nodes.remove_edges(), we can verify the accuracy of the results.\n",
    "# When a node dies, the weight of the previously established edge is added back to the node connected to it.\n",
    "# We use this block for testing.\n",
    "\n",
    "stock_price = 12\n",
    "\n",
    "network = Networks(10)\n",
    "node_counts = network.simulate(30)\n",
    "\n",
    "print(node_counts)"
   ]
  },
  {
   "cell_type": "code",
   "execution_count": 6,
   "id": "2236466e",
   "metadata": {},
   "outputs": [
    {
     "data": {
      "image/png": "[encoded data removed]",
      "text/plain": [
       "<Figure size 640x480 with 1 Axes>"
      ]
     },
     "metadata": {},
     "output_type": "display_data"
    }
   ],
   "source": [
    "# a fig to test whether the code works\n",
    "\n",
    "stock_price = 12\n",
    "\n",
    "network = Networks(1000)\n",
    "node_counts = network.simulate(1000)\n",
    "\n",
    "plt.plot(node_counts)\n",
    "plt.xlabel('Time Step')\n",
    "plt.ylabel('Number of Nodes')\n",
    "plt.title('Number of Nodes Over Time')\n",
    "plt.show()"
   ]
  },
  {
   "cell_type": "code",
   "execution_count": null,
   "id": "574bcb2d",
   "metadata": {},
   "outputs": [],
   "source": []
  }
 ],
 "metadata": {
  "kernelspec": {
   "display_name": "Python 3 (ipykernel)",
   "language": "python",
   "name": "python3"
  },
  "language_info": {
   "codemirror_mode": {
    "name": "ipython",
    "version": 3
   },
   "file_extension": ".py",
   "mimetype": "text/x-python",
   "name": "python",
   "nbconvert_exporter": "python",
   "pygments_lexer": "ipython3",
   "version": "3.11.5"
  }
 },
 "nbformat": 4,
 "nbformat_minor": 5
}
